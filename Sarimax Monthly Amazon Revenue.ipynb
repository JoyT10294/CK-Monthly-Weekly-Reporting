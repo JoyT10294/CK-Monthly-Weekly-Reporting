{
 "cells": [
  {
   "cell_type": "code",
   "execution_count": 1,
   "metadata": {},
   "outputs": [],
   "source": [
    "#Import useful functions\n",
    "import warnings\n",
    "warnings.filterwarnings(\"ignore\")\n",
    "from sklearn import svm, datasets\n",
    "from sklearn.model_selection import train_test_split\n",
    "from sklearn.metrics import confusion_matrix as cm\n",
    "from sklearn.utils.multiclass import unique_labels\n",
    "import itertools\n",
    "from scipy import misc\n",
    "import math\n",
    "import os\n",
    "import glob\n",
    "import xlrd\n",
    "import xlwt\n",
    "import pandas as pd\n",
    "from pandas import ExcelWriter\n",
    "from pandas import ExcelFile\n",
    "from PIL import Image\n",
    "from statsmodels.tsa.statespace.sarimax import SARIMAX\n",
    "import statsmodels.api as sm\n",
    "import pylab as plt\n",
    "import numpy as np\n",
    "from scipy.signal import argrelextrema\n",
    "from IPython.display import Image\n",
    "import matplotlib.patches as patches\n",
    "import matplotlib as matplotlib\n",
    "import xlsxwriter\n",
    "from xlrd import open_workbook\n",
    "from xlutils.copy import copy\n",
    "from sklearn.model_selection import train_test_split\n",
    "from datetime import datetime\n",
    "plt.style.use('fivethirtyeight')\n",
    "import itertools\n",
    "from fbprophet import Prophet\n",
    "from scipy.interpolate import interp1d\n",
    "from sklearn.preprocessing import StandardScaler\n",
    "import xlrd"
   ]
  },
  {
   "cell_type": "code",
   "execution_count": 2,
   "metadata": {},
   "outputs": [],
   "source": [
    "#Function Saves Forecast Graphs to New Sheet in Excel File\n",
    "from openpyxl import load_workbook\n",
    "from openpyxl.drawing.image import Image\n",
    "def graphforecast(filenamefinal, imdir):\n",
    "    imdir1= imdir+'/{}'\n",
    "    for im in os.listdir(imdir):\n",
    "        imname = im.split('.')[0]\n",
    "        workbook = load_workbook(filename=filenamefinal)\n",
    "        sheet = workbook.create_sheet(imname)\n",
    "        logo = Image(imdir1.format(im))\n",
    "        loc ='A1'\n",
    "        sheet.add_image(logo, loc)\n",
    "        workbook.save(filenamefinal)\n",
    "    return filenamefinal"
   ]
  },
  {
   "cell_type": "code",
   "execution_count": 3,
   "metadata": {},
   "outputs": [],
   "source": [
    "#Select Arima Test Model Parameters\n",
    "p = d = q = range(0, 2)\n",
    "pdq = list(itertools.product(p, d, q))\n",
    "seasonal_pdq = [(x[0], x[1], x[2], 12) for x in list(itertools.product(p, d, q))]"
   ]
  },
  {
   "cell_type": "markdown",
   "metadata": {},
   "source": [
    "**Must Specify Foldername and Sheetname**"
   ]
  },
  {
   "cell_type": "code",
   "execution_count": 4,
   "metadata": {},
   "outputs": [],
   "source": [
    "foldername = '/Users/JoyThompson/Desktop/Client Forecasting/LG/LG.xlsx'\n",
    "sheetname='shipsales'"
   ]
  },
  {
   "cell_type": "code",
   "execution_count": 5,
   "metadata": {},
   "outputs": [],
   "source": [
    "#Open Excel File and Read Sheet\n",
    "monthlyrev=pd.read_excel(foldername, sheetname=sheetname)\n",
    "#Create List of Dates\n",
    "datesall=['2018-01-31','2018-02-28','2018-03-31','2018-04-30',\n",
    "         '2018-05-31','2018-06-30','2018-07-31','2018-08-31','2018-09-30','2018-10-31','2018-11-30','2018-12-31','2019-01-31','2019-02-28','2019-03-31','2019-04-30',\n",
    "         '2019-05-31','2019-06-30','2019-07-31','2019-08-31','2019-09-30','2019-10-31','2019-11-30','2019-12-31',\n",
    "         '2020-01-31','2020-02-29','2020-03-31','2020-04-30','2020-05-31','2020-06-30','2020-07-31',\n",
    "         '2020-08-31','2020-09-30','2020-10-31','2020-11-30','2020-12-31']\n",
    "#Convert Dates to Datetime Format\n",
    "datestopd=[]\n",
    "for column in datesall:\n",
    "        date=pd.to_datetime(column)\n",
    "        datestopd.append(date)"
   ]
  },
  {
   "cell_type": "markdown",
   "metadata": {},
   "source": [
    "**Must Select Appropriate Historical Data Input Dates**"
   ]
  },
  {
   "cell_type": "code",
   "execution_count": 6,
   "metadata": {},
   "outputs": [],
   "source": [
    "datesinput=datestopd[0:22]"
   ]
  },
  {
   "cell_type": "code",
   "execution_count": 7,
   "metadata": {},
   "outputs": [
    {
     "name": "stdout",
     "output_type": "stream",
     "text": [
      "                   y\n",
      "ds                  \n",
      "2018-01-31  1.698302\n",
      "2018-02-28 -0.459586\n",
      "2018-03-31  0.638916\n",
      "2018-04-30  0.024322\n",
      "2018-05-31 -1.031585\n",
      "2018-06-30 -0.901027\n",
      "2018-07-31 -0.763093\n",
      "2018-08-31 -0.057335\n",
      "2018-09-30 -1.240440\n",
      "2018-10-31 -0.273198\n",
      "2018-11-30  0.890023\n",
      "2018-12-31  2.456023\n",
      "2019-01-31 -0.710846\n",
      "2019-02-28 -1.302133\n",
      "2019-03-31  0.079606\n",
      "2019-04-30 -1.093863\n",
      "2019-05-31 -0.571414\n",
      "2019-06-30 -0.743060\n",
      "2019-07-31  0.373648\n",
      "2019-08-31  0.797096\n",
      "2019-09-30  0.828371\n",
      "2019-10-31  1.361272\n"
     ]
    }
   ],
   "source": [
    "#Standardize Data and Format for Forecasting\n",
    "revmatrix=monthlyrev.as_matrix(columns=['Shipped Product Sales'])\n",
    "revtransformer = StandardScaler()\n",
    "revtransformer.fit(revmatrix)\n",
    "ystand = revtransformer.transform(revmatrix)\n",
    "ylist=[]\n",
    "\n",
    "countmonths=0\n",
    "for ind in monthlyrev.index:\n",
    "    rev=ystand[countmonths][0]\n",
    "    ylist.append(float(rev))\n",
    "    countmonths=countmonths+1\n",
    "forecastin=pd.DataFrame({'ds': datesinput,'y':ylist})\n",
    "forecastin=forecastin.set_index('ds')\n",
    "print(forecastin)"
   ]
  },
  {
   "cell_type": "markdown",
   "metadata": {},
   "source": [
    "**Specify Number of Projection Months and Confidence Interval Width**"
   ]
  },
  {
   "cell_type": "code",
   "execution_count": 8,
   "metadata": {},
   "outputs": [],
   "source": [
    "intwidth=.75\n",
    "projectmonths=14"
   ]
  },
  {
   "cell_type": "code",
   "execution_count": 9,
   "metadata": {},
   "outputs": [],
   "source": [
    "#Forecast Data\n",
    "from statsmodels.tsa.statespace.sarimax import SARIMAX\n",
    "import statsmodels.api as sm\n",
    "aicnum=[]\n",
    "param1=[]\n",
    "param2=[]\n",
    "for param in pdq:\n",
    "    for param_seasonal in seasonal_pdq:\n",
    "        try:\n",
    "            results = sm.tsa.statespace.SARIMAX(forecastin,order=param,seasonal_order=param_seasonal, freq='M').fit()\n",
    "            param1.append(param)\n",
    "            param2.append(param_seasonal)\n",
    "            aicnum.append(results.aic)\n",
    "        except:\n",
    "            continue\n",
    "minpos = aicnum.index(min(aicnum)) \n",
    "ordervarrev=param1[minpos]\n",
    "seasonalvarrev=param2[minpos]\n",
    "   \n",
    "resultsrev = sm.tsa.statespace.SARIMAX(forecastin, order=ordervarrev,seasonal_order=seasonalvarrev, freq='M').fit()\n",
    "forecastdatarev=resultsrev.forecast(steps=14, freq='M')\n",
    "forecastdatarevenue=forecastdatarev.reset_index()"
   ]
  },
  {
   "cell_type": "code",
   "execution_count": 10,
   "metadata": {},
   "outputs": [],
   "source": [
    "#Unstandardize Forecast\n",
    "forecastdatarev = revtransformer.inverse_transform(forecastdatarevenue[0])\n",
    "ct=0\n",
    "ylist=[]\n",
    "yhighlist=[]\n",
    "ylowlist=[]\n",
    "datelist=[]\n",
    "spendlist=[]\n",
    "for datefor in forecastdatarevenue.index:\n",
    "    date=forecastdatarevenue.loc[datefor, 'index']\n",
    "    datelist.append(date)\n",
    "    sales=forecastdatarev[ct]\n",
    "    ylist.append(sales)\n",
    "    salesl=sales*.9\n",
    "    ylowlist.append(salesl)\n",
    "    salesu=sales*1.1\n",
    "    yhighlist.append(salesu)    \n",
    "    ct=ct+1"
   ]
  },
  {
   "cell_type": "markdown",
   "metadata": {},
   "source": [
    "**Forecast**"
   ]
  },
  {
   "cell_type": "code",
   "execution_count": 11,
   "metadata": {},
   "outputs": [
    {
     "data": {
      "text/html": [
       "<div>\n",
       "<style scoped>\n",
       "    .dataframe tbody tr th:only-of-type {\n",
       "        vertical-align: middle;\n",
       "    }\n",
       "\n",
       "    .dataframe tbody tr th {\n",
       "        vertical-align: top;\n",
       "    }\n",
       "\n",
       "    .dataframe thead th {\n",
       "        text-align: right;\n",
       "    }\n",
       "</style>\n",
       "<table border=\"1\" class=\"dataframe\">\n",
       "  <thead>\n",
       "    <tr style=\"text-align: right;\">\n",
       "      <th></th>\n",
       "      <th>Revenue Forecast</th>\n",
       "      <th>Upper Bound Forecast</th>\n",
       "      <th>Lower Bound Forecast</th>\n",
       "    </tr>\n",
       "    <tr>\n",
       "      <th>Month</th>\n",
       "      <th></th>\n",
       "      <th></th>\n",
       "      <th></th>\n",
       "    </tr>\n",
       "  </thead>\n",
       "  <tbody>\n",
       "    <tr>\n",
       "      <th>2019-11-30</th>\n",
       "      <td>128716.999999</td>\n",
       "      <td>141588.699999</td>\n",
       "      <td>115845.299999</td>\n",
       "    </tr>\n",
       "    <tr>\n",
       "      <th>2019-12-31</th>\n",
       "      <td>147894.499999</td>\n",
       "      <td>162683.949999</td>\n",
       "      <td>133105.049999</td>\n",
       "    </tr>\n",
       "    <tr>\n",
       "      <th>2020-01-31</th>\n",
       "      <td>109112.499999</td>\n",
       "      <td>120023.749999</td>\n",
       "      <td>98201.249999</td>\n",
       "    </tr>\n",
       "    <tr>\n",
       "      <th>2020-02-29</th>\n",
       "      <td>101871.499999</td>\n",
       "      <td>112058.649999</td>\n",
       "      <td>91684.349999</td>\n",
       "    </tr>\n",
       "    <tr>\n",
       "      <th>2020-03-31</th>\n",
       "      <td>118792.499999</td>\n",
       "      <td>130671.749999</td>\n",
       "      <td>106913.249999</td>\n",
       "    </tr>\n",
       "    <tr>\n",
       "      <th>2020-04-30</th>\n",
       "      <td>104421.999999</td>\n",
       "      <td>114864.199999</td>\n",
       "      <td>93979.799999</td>\n",
       "    </tr>\n",
       "    <tr>\n",
       "      <th>2020-05-31</th>\n",
       "      <td>110819.999999</td>\n",
       "      <td>121901.999999</td>\n",
       "      <td>99737.999999</td>\n",
       "    </tr>\n",
       "    <tr>\n",
       "      <th>2020-06-30</th>\n",
       "      <td>108717.999999</td>\n",
       "      <td>119589.799999</td>\n",
       "      <td>97846.199999</td>\n",
       "    </tr>\n",
       "    <tr>\n",
       "      <th>2020-07-31</th>\n",
       "      <td>122393.389999</td>\n",
       "      <td>134632.728999</td>\n",
       "      <td>110154.050999</td>\n",
       "    </tr>\n",
       "    <tr>\n",
       "      <th>2020-08-31</th>\n",
       "      <td>127578.999999</td>\n",
       "      <td>140336.899999</td>\n",
       "      <td>114821.099999</td>\n",
       "    </tr>\n",
       "    <tr>\n",
       "      <th>2020-09-30</th>\n",
       "      <td>127961.999999</td>\n",
       "      <td>140758.199999</td>\n",
       "      <td>115165.799999</td>\n",
       "    </tr>\n",
       "    <tr>\n",
       "      <th>2020-10-31</th>\n",
       "      <td>134487.999999</td>\n",
       "      <td>147936.799999</td>\n",
       "      <td>121039.199999</td>\n",
       "    </tr>\n",
       "    <tr>\n",
       "      <th>2020-11-30</th>\n",
       "      <td>148732.999999</td>\n",
       "      <td>163606.299998</td>\n",
       "      <td>133859.699999</td>\n",
       "    </tr>\n",
       "    <tr>\n",
       "      <th>2020-12-31</th>\n",
       "      <td>167910.499999</td>\n",
       "      <td>184701.549998</td>\n",
       "      <td>151119.449999</td>\n",
       "    </tr>\n",
       "  </tbody>\n",
       "</table>\n",
       "</div>"
      ],
      "text/plain": [
       "            Revenue Forecast  Upper Bound Forecast  Lower Bound Forecast\n",
       "Month                                                                   \n",
       "2019-11-30     128716.999999         141588.699999         115845.299999\n",
       "2019-12-31     147894.499999         162683.949999         133105.049999\n",
       "2020-01-31     109112.499999         120023.749999          98201.249999\n",
       "2020-02-29     101871.499999         112058.649999          91684.349999\n",
       "2020-03-31     118792.499999         130671.749999         106913.249999\n",
       "2020-04-30     104421.999999         114864.199999          93979.799999\n",
       "2020-05-31     110819.999999         121901.999999          99737.999999\n",
       "2020-06-30     108717.999999         119589.799999          97846.199999\n",
       "2020-07-31     122393.389999         134632.728999         110154.050999\n",
       "2020-08-31     127578.999999         140336.899999         114821.099999\n",
       "2020-09-30     127961.999999         140758.199999         115165.799999\n",
       "2020-10-31     134487.999999         147936.799999         121039.199999\n",
       "2020-11-30     148732.999999         163606.299998         133859.699999\n",
       "2020-12-31     167910.499999         184701.549998         151119.449999"
      ]
     },
     "execution_count": 11,
     "metadata": {},
     "output_type": "execute_result"
    }
   ],
   "source": [
    "forecastout=pd.DataFrame({'Month': datelist, 'Revenue Forecast':ylist, 'Upper Bound Forecast':yhighlist,\n",
    "                    'Lower Bound Forecast':ylowlist})\n",
    "forecastout.set_index('Month')"
   ]
  },
  {
   "cell_type": "code",
   "execution_count": 12,
   "metadata": {},
   "outputs": [
    {
     "data": {
      "text/plain": [
       "<matplotlib.legend.Legend at 0x2760ac5d828>"
      ]
     },
     "execution_count": 12,
     "metadata": {},
     "output_type": "execute_result"
    },
    {
     "data": {
      "image/png": "[encoded data removed]",
      "text/plain": [
       "<Figure size 1152x576 with 1 Axes>"
      ]
     },
     "metadata": {
      "needs_background": "light"
     },
     "output_type": "display_data"
    }
   ],
   "source": [
    "fig, axes = plt.subplots(1,1, figsize=(16,8));\n",
    "plt.style.use('fivethirtyeight')\n",
    "axes.plot_date(datesinput, monthlyrev['Shipped Product Sales'], '--.c');\n",
    "axes.plot_date(datelist,ylist, '--.r');\n",
    "axes.plot_date(datelist,yhighlist, '--.y');\n",
    "axes.plot_date(datelist,ylowlist, '--.b');\n",
    "axes.set_ylabel('Sales $');\n",
    "axes.set_xlabel('Month');\n",
    "axes.set_title('Revenue Forecast');\n",
    "axes.legend(('Raw Data','Forecast', 'Upper Bound Forecast', 'Lower Bound Forecast'))"
   ]
  },
  {
   "cell_type": "markdown",
   "metadata": {},
   "source": [
    "**Must Specify File Path to Save a Copy of Graph as Image and Ouput File Path**"
   ]
  },
  {
   "cell_type": "code",
   "execution_count": 13,
   "metadata": {},
   "outputs": [],
   "source": [
    "figname='/Users/JoyThompson/Desktop/Client Forecasting/LG/graphs/LGrevforecast.png'\n",
    "figpath='/Users/JoyThompson/Desktop/Client Forecasting/LG/graphs'\n",
    "filenamefinal='/Users/JoyThompson/Desktop/Client Forecasting/LG/Forecast19.xlsx'"
   ]
  },
  {
   "cell_type": "code",
   "execution_count": 14,
   "metadata": {},
   "outputs": [],
   "source": [
    "#Save Image and Graph to Excel File\n",
    "fig.savefig(figname)\n",
    "writer = pd.ExcelWriter(filenamefinal, engine='xlsxwriter')\n",
    "forecastout.to_excel(writer, sheet_name='Sheet1')\n",
    "writer.save()"
   ]
  },
  {
   "cell_type": "markdown",
   "metadata": {},
   "source": [
    "**Output File Path**"
   ]
  },
  {
   "cell_type": "code",
   "execution_count": 15,
   "metadata": {},
   "outputs": [
    {
     "data": {
      "text/plain": [
       "'/Users/JoyThompson/Desktop/Client Forecasting/LG/Forecast19.xlsx'"
      ]
     },
     "execution_count": 15,
     "metadata": {},
     "output_type": "execute_result"
    }
   ],
   "source": [
    "graphforecast(filenamefinal, figpath)"
   ]
  }
 ],
 "metadata": {
  "kernelspec": {
   "display_name": "Python 3",
   "language": "python",
   "name": "python3"
  },
  "language_info": {
   "codemirror_mode": {
    "name": "ipython",
    "version": 3
   },
   "file_extension": ".py",
   "mimetype": "text/x-python",
   "name": "python",
   "nbconvert_exporter": "python",
   "pygments_lexer": "ipython3",
   "version": "3.7.3"
  }
 },
 "nbformat": 4,
 "nbformat_minor": 2
}
