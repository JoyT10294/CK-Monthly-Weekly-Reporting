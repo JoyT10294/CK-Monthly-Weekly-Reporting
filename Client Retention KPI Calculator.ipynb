{
 "cells": [
  {
   "cell_type": "code",
   "execution_count": 1,
   "metadata": {},
   "outputs": [],
   "source": [
    "#Import useful functions\n",
    "import warnings\n",
    "warnings.filterwarnings(\"ignore\")\n",
    "from sklearn import svm, datasets\n",
    "from sklearn.model_selection import train_test_split\n",
    "from sklearn.metrics import confusion_matrix as cm\n",
    "from sklearn.utils.multiclass import unique_labels\n",
    "import itertools\n",
    "from scipy import misc\n",
    "import math\n",
    "import os\n",
    "import glob\n",
    "import xlrd\n",
    "import xlwt\n",
    "import pandas as pd\n",
    "from pandas import ExcelWriter\n",
    "from pandas import ExcelFile\n",
    "from PIL import Image\n",
    "from statsmodels.tsa.statespace.sarimax import SARIMAX\n",
    "import statsmodels.api as sm\n",
    "import pylab as plt\n",
    "import numpy as np\n",
    "from scipy.signal import argrelextrema\n",
    "from IPython.display import Image\n",
    "import matplotlib.patches as patches\n",
    "import matplotlib as matplotlib\n",
    "import xlsxwriter\n",
    "from xlrd import open_workbook\n",
    "from xlutils.copy import copy\n",
    "from sklearn.model_selection import train_test_split\n",
    "from datetime import datetime\n",
    "plt.style.use('fivethirtyeight')\n",
    "import itertools\n",
    "from fbprophet import Prophet\n",
    "from scipy.interpolate import interp1d\n",
    "from sklearn.preprocessing import StandardScaler\n",
    "import xlrd"
   ]
  },
  {
   "cell_type": "code",
   "execution_count": null,
   "metadata": {},
   "outputs": [],
   "source": []
  },
  {
   "cell_type": "code",
   "execution_count": 2,
   "metadata": {},
   "outputs": [],
   "source": [
    "foldername1 = '/Users/JoyThompson/Desktop/Contract Expiration Dates JoyT Dec 23.xlsx'\n",
    "data=pd.read_excel(foldername1, sheetname='Consolidated')\n",
    "bill=pd.read_excel(foldername1, sheetname='Billing Auto')\n",
    "bill=bill.set_index('Client Name')\n",
    "month='2019-12-01'\n",
    "kpipd=pd.read_excel(foldername1, sheetname='Retention KPI')\n",
    "kpipd=kpipd.set_index('Month')\n",
    "pods=pd.read_excel(foldername1, sheetname='Pod V Pod')\n",
    "pods=pods.set_index('Pod')\n",
    "amazon=pd.read_excel(foldername1, sheetname='SC V VC')\n",
    "amazon=amazon.set_index('Amazon Store')\n",
    "poddata=pd.read_excel(foldername1, sheetname='Pod Data')\n",
    "poddata=poddata.set_index('Pod')\n",
    "amazon=pd.read_excel(foldername1, sheetname='SC V VC')\n",
    "accdata=pd.read_excel(foldername1, sheetname='Account Type Data')\n",
    "accdata=accdata.set_index('Account')\n",
    "retentiondata=pd.read_excel(foldername1, sheetname='retentiondata')"
   ]
  },
  {
   "cell_type": "code",
   "execution_count": 3,
   "metadata": {},
   "outputs": [],
   "source": [
    "podS=data[data['Pod'] == \"Spencer's Pod\"]\n",
    "podB=data[data['Pod'] == \"Brian's Pod\"]\n",
    "podOB=data[data['Pod'] == \"On - Boarding\"]\n",
    "Hybrid=data[data['VC, SC, or Hybrid'] == \"Hybrid\"]\n",
    "SC=data[data['VC, SC, or Hybrid'] == \"SC\"]\n",
    "VC=data[data['VC, SC, or Hybrid'] == \"VC\"]"
   ]
  },
  {
   "cell_type": "code",
   "execution_count": 4,
   "metadata": {},
   "outputs": [
    {
     "name": "stdout",
     "output_type": "stream",
     "text": [
      "3\n",
      "44\n",
      "43\n",
      "2018-11-01 00:00:00\n",
      "25\n"
     ]
    }
   ],
   "source": [
    "origc=newc=outc=0\n",
    "dropclient=[]\n",
    "for ind in data.index:\n",
    "    new=data.loc[ind, 'New Client']\n",
    "    out=data.loc[ind, 'Opt Out Date']\n",
    "    if new == 'Yes':\n",
    "        newc=newc+1\n",
    "    else:\n",
    "        origc=1+origc\n",
    "    if str(out)[0]=='N':\n",
    "        outc=outc+1\n",
    "    else:\n",
    "        dropclient.append(ind)\n",
    "print(newc)      \n",
    "inddata=len(retentiondata)-13\n",
    "indd=inddata+1\n",
    "inddataq=len(retentiondata)-3\n",
    "inddq=inddataq+1\n",
    "\n",
    "origcq=retentiondata.loc[inddataq,'# of Full Service Active Clients at Month End']      \n",
    "origc=retentiondata.loc[inddata,'# of Full Service Active Clients at Month End']  \n",
    "newc=newc+sum(retentiondata.loc[indd:,'# of Full Service New Clients Added'])\n",
    "newcq=newc+sum(retentiondata.loc[inddq:,'# of Full Service New Clients Added'])\n",
    "retention=((outc-newc)/origc)\n",
    "print(outc)\n",
    "print(newc)\n",
    "print(retentiondata.loc[inddata,'Month'])\n",
    "print(origc)\n",
    "if month in ['2019-12-01','2019-03-01','2019-06-01', '2019-09-01']:\n",
    "    retentionq=((outc-newcq)/origcq)\n",
    "else:\n",
    "    retentionq=data.loc[-1, 'Quarterly Rolling Retention Rate']"
   ]
  },
  {
   "cell_type": "code",
   "execution_count": 5,
   "metadata": {},
   "outputs": [],
   "source": [
    "def retentioncalc(data, retentiondata):\n",
    "    origc=newc=outc=0\n",
    "    dropclient=[]\n",
    "    for ind in data.index:\n",
    "        new=data.loc[ind, 'New Client']\n",
    "        out=data.loc[ind, 'Opt Out Date']\n",
    "        if new == 'Yes':\n",
    "            newc=newc+1\n",
    "        else:\n",
    "            origc=1+origc\n",
    "        if str(out)[0]=='N':\n",
    "            outc=outc+1\n",
    "        else:\n",
    "            dropclient.append(ind)\n",
    "   \n",
    "    return dropclient, outc, newc, origc"
   ]
  },
  {
   "cell_type": "code",
   "execution_count": 6,
   "metadata": {},
   "outputs": [],
   "source": [
    "dropclientS, outcS, newcS, origcS = retentioncalc(podS, poddata)\n",
    "dropclientB, outcB, newcB, origcB = retentioncalc(podB, poddata)\n",
    "dropclientOB,outcOB, newcOB, origcOB = retentioncalc(podOB, poddata)\n",
    "dropclientH, outcH, newcH, origcH = retentioncalc(Hybrid, accdata)\n",
    "dropclientSC, outcSC, newcSC, origcSC = retentioncalc(SC, accdata)\n",
    "dropclientVC, outcVC, newcVC, origcVC = retentioncalc(VC, accdata)"
   ]
  },
  {
   "cell_type": "code",
   "execution_count": 7,
   "metadata": {},
   "outputs": [],
   "source": [
    "currentcl=data.drop(dropclient)\n",
    "currentclients=currentcl.set_index('Client Name')"
   ]
  },
  {
   "cell_type": "code",
   "execution_count": 8,
   "metadata": {},
   "outputs": [],
   "source": [
    "def renewcalc(data, dropclient, origc):    \n",
    "    datadrop=data.loc[dropclient,:]\n",
    "    if len(datadrop)>0:\n",
    "        for ind in datadrop.index:\n",
    "            start=datadrop.loc[ind, 'Initial Start Date']\n",
    "            end=datadrop.loc[ind, 'Contract End Date']\n",
    "            lifetime=str(end-start)\n",
    "            datadrop.loc[ind, 'Client Lifetime']=float(lifetime.split(' ')[0])\n",
    "        averagelt=np.mean(datadrop['Client Lifetime'])   \n",
    "    else:\n",
    "        averagelt=365\n",
    "    today=str(datetime.today())[0:6]\n",
    "    renew=drop=optout=0\n",
    "    for ind in data.index:\n",
    "        end=data.loc[ind, 'Contract End Date']\n",
    "        out=data.loc[ind, 'Opt Out Date']\n",
    "        end=str(end)[0:6]\n",
    "        if end == today:\n",
    "            if str(out)[0]=='N':\n",
    "                renew=renew+1\n",
    "            else:\n",
    "                drop=drop+1\n",
    "        if str(out)[0]!='N':\n",
    "            if end != today:\n",
    "                optout=optout+1\n",
    "    if float(renew+drop)>0:\n",
    "        renewper=(renew/(renew+drop))\n",
    "    else:\n",
    "        renewper=1\n",
    "    optper=(optout/origc)\n",
    "    return averagelt, renewper, optper, datadrop\n"
   ]
  },
  {
   "cell_type": "code",
   "execution_count": 9,
   "metadata": {},
   "outputs": [],
   "source": [
    "averagelt, renewper, optper, datadrop = renewcalc(data,dropclient, origc)\n",
    "averageltS, renewperS, optperS, datadropS = renewcalc(podS, dropclientS, origcS)\n",
    "averageltB, renewperB, optperB, datadropB = renewcalc(podB, dropclientB, origcB)\n",
    "averageltOB, renewperOB, optperOB, datadropOB = renewcalc(podOB, dropclientOB, origcOB)\n",
    "averageltH, renewperH, optperH, datadropH = renewcalc(Hybrid, dropclientH, origcH)\n",
    "averageltSC, renewperSC, optperSC, datadropSC = renewcalc(SC, dropclientSC, origcSC)\n",
    "averageltVC, renewperVC, optperVC, datadropVC = renewcalc(VC, dropclientVC, origcVC)"
   ]
  },
  {
   "cell_type": "code",
   "execution_count": 10,
   "metadata": {},
   "outputs": [],
   "source": [
    "\n",
    "poddata=poddata.append({'Pod': 'Spencer', 'Month': month, 'Original Number of Clients': origcS,\n",
    "                       'End Number of Clients':outcS, 'New Clients':newcS, 'Clients Opt Out':optperS,\n",
    "                       'Clients Renew':renewperS, 'Average Lifetime':averageltS}, ignore_index=True)\n",
    "poddata=poddata.append({'Pod': 'Brian', 'Month': month, 'Original Number of Clients': origcB,\n",
    "                       'End Number of Clients':outcB, 'New Clients':newcB,'Clients Opt Out':optperB,\n",
    "                       'Clients Renew':renewperB, 'Average Lifetime':averageltB}, ignore_index=True)\n",
    "poddata=poddata.append({'Pod': 'On - Boarding', 'Month': month, 'Original Number of Clients': origcOB,\n",
    "                       'End Number of Clients':outcOB, 'New Clients':newcOB,'Clients Opt Out':optperOB,\n",
    "                       'Clients Renew':renewperOB, 'Average Lifetime':averageltOB}, ignore_index=True)\n",
    "accdata=accdata.append({'Account': 'Seller Central', 'Month': month, 'Original Number of Clients': origcSC,\n",
    "                       'End Number of Clients':outcSC, 'New Clients':newcSC, 'Clients Opt Out':optperSC,\n",
    "                       'Clients Renew':renewperSC, 'Average Lifetime':averageltSC}, ignore_index=True)\n",
    "accdata=accdata.append({'Account': 'Vendor Central', 'Month': month, 'Original Number of Clients': origcVC,\n",
    "                       'End Number of Clients':outcVC, 'New Clients':newcVC, 'Clients Opt Out':optperVC,\n",
    "                       'Clients Renew':renewperVC, 'Average Lifetime':averageltVC}, ignore_index=True)\n",
    "accdata=accdata.append({'Account': 'Hybrid', 'Month': month, 'Original Number of Clients': origcH,\n",
    "                       'End Number of Clients':outcH, 'New Clients':newcH, 'Clients Opt Out':optperH,\n",
    "                       'Clients Renew':renewperH, 'Average Lifetime':averageltH}, ignore_index=True)\n",
    "retentiondata=retentiondata.append({'Month':month, '# of Full Service Active Clients at Month End': outc,\n",
    "                                   '# of Full Service New Clients Added':newc,\n",
    "                                    '# of Cancelled Full Service Clients': optper, \"# of Clients Renewed\": renewper}, ignore_index=True)\n"
   ]
  },
  {
   "cell_type": "code",
   "execution_count": 11,
   "metadata": {},
   "outputs": [],
   "source": [
    "billav=bill.loc['Average', month]\n",
    "ltval=float(billav)*float(averagelt/30.5)"
   ]
  },
  {
   "cell_type": "code",
   "execution_count": 12,
   "metadata": {},
   "outputs": [],
   "source": [
    "kpipd.loc[month, 'Average Monthly Client Revenue']=np.round(ltval, decimals=2)\n",
    "kpipd.loc[month, 'Average Customer Lifetime Value']=np.round(billav, decimals=2)\n",
    "kpipd.loc[month, 'Annual Rolling Retention Rate']=retention\n",
    "kpipd.loc[month, 'Quarterly Rolling Retention Rate']=retentionq\n",
    "kpipd.loc[month, 'Average Client Term']=averagelt\n",
    "kpipd.loc[month, 'Monthly Client Opt Out Rate']=optper\n",
    "kpipd.loc[month, 'Monthly Client Renewal Rate']=renewper"
   ]
  },
  {
   "cell_type": "code",
   "execution_count": 13,
   "metadata": {},
   "outputs": [],
   "source": [
    "podlt=[averageltS, averageltB, averageltOB]\n",
    "podren=[renewperS, renewperB, renewperOB]\n",
    "podopt=[optperS, optperB, optperOB]\n",
    "podlist = [\"Spencer's Pod\", \"Brian's Pod\", \"On - Boarding\"]\n"
   ]
  },
  {
   "cell_type": "code",
   "execution_count": 14,
   "metadata": {},
   "outputs": [
    {
     "name": "stdout",
     "output_type": "stream",
     "text": [
      "               Average Client Term  Client Renewal Rate  Client Opt Out Rate\n",
      "Pod                                                                         \n",
      "Spencer's Pod           364.333333             0.333333             0.047619\n",
      "Brian's Pod             365.000000             1.000000             0.000000\n",
      "On - Boarding            91.000000             0.500000             0.000000\n"
     ]
    }
   ],
   "source": [
    "count=0\n",
    "for ind in pods.index:\n",
    "\n",
    "    lifetime=podlt[count]\n",
    "    renew=podren[count]\n",
    "    optout=podopt[count]\n",
    "    pod=podlist[count]\n",
    "    pods.loc[pod, 'Average Client Term']=lifetime\n",
    "    pods.loc[pod, 'Client Renewal Rate']=renew\n",
    "    pods.loc[pod, 'Client Opt Out Rate']=optout\n",
    "    count=count+1\n",
    "print(pods)"
   ]
  },
  {
   "cell_type": "code",
   "execution_count": 15,
   "metadata": {},
   "outputs": [],
   "source": [
    "amlt=[averageltSC, averageltVC, averageltH]\n",
    "amren=[renewperSC, renewperVC, renewperH]\n",
    "amopt=[optperSC, optperVC, optperH]\n",
    "storelist = [\"Seller Central\", \"Vendor Central\", \"Hybrid\"]"
   ]
  },
  {
   "cell_type": "code",
   "execution_count": 16,
   "metadata": {},
   "outputs": [],
   "source": [
    "amazon=amazon.set_index('Amazon Store')\n",
    "count=0\n",
    "for ind in amazon.index:\n",
    "\n",
    "    lifetime=amlt[count]\n",
    "    renew=amren[count]\n",
    "    optout=amopt[count]\n",
    "    store=storelist[count]\n",
    "    amazon.loc[store, 'Average Client Term']=lifetime\n",
    "    amazon.loc[store, 'Client Renewal Rate']=renew\n",
    "    amazon.loc[store, 'Client Opt Out Rate']=optout\n",
    "    count=count+1"
   ]
  },
  {
   "cell_type": "code",
   "execution_count": 17,
   "metadata": {},
   "outputs": [
    {
     "name": "stdout",
     "output_type": "stream",
     "text": [
      "                Average Client Term  Client Renewal Rate  Client Opt Out Rate\n",
      "Amazon Store                                                                 \n",
      "Seller Central                296.0                  0.7             0.026316\n",
      "Vendor Central                365.0                  1.0             0.000000\n",
      "Hybrid                        365.0                  1.0             0.000000\n"
     ]
    }
   ],
   "source": [
    "print(amazon)"
   ]
  },
  {
   "cell_type": "code",
   "execution_count": 19,
   "metadata": {},
   "outputs": [],
   "source": [
    "filenamefinal= '/Users/JoyThompson/Desktop/RetentionKPIAutomatedV7.xlsx'\n",
    "writer = pd.ExcelWriter(filenamefinal, engine='xlsxwriter')\n",
    "kpipd.to_excel(writer, sheet_name='Retention KPI')\n",
    "currentclients.to_excel(writer, sheet_name='Current CK Clients')\n",
    "pods.to_excel(writer, sheet_name='Pod vs Pod')\n",
    "retentiondata.to_excel(writer, sheet_name='Retention D')\n",
    "\n",
    "amazon.to_excel(writer, sheet_name='Amazon Account Comparison')\n",
    "poddata.to_excel(writer, sheet_name='Pod vs Pod Data')\n",
    "accdata.to_excel(writer, sheet_name='Amazon Account Comparison Data')\n",
    "writer.save()"
   ]
  },
  {
   "cell_type": "code",
   "execution_count": null,
   "metadata": {},
   "outputs": [],
   "source": []
  },
  {
   "cell_type": "code",
   "execution_count": null,
   "metadata": {},
   "outputs": [],
   "source": []
  }
 ],
 "metadata": {
  "kernelspec": {
   "display_name": "Python 3",
   "language": "python",
   "name": "python3"
  },
  "language_info": {
   "codemirror_mode": {
    "name": "ipython",
    "version": 3
   },
   "file_extension": ".py",
   "mimetype": "text/x-python",
   "name": "python",
   "nbconvert_exporter": "python",
   "pygments_lexer": "ipython3",
   "version": "3.7.3"
  }
 },
 "nbformat": 4,
 "nbformat_minor": 2
}
