{
 "cells": [
  {
   "cell_type": "code",
   "execution_count": null,
   "metadata": {},
   "outputs": [],
   "source": [
    "PGHOST = database_host\n",
    "PGNAME = database_name\n",
    "PGUSER = database_username\n",
    "PGPASS = database_password\n",
    "\n",
    "import psycopg2\n",
    "import sysios\n",
    "import numpy as np\n",
    "import pandas as pd\n",
    "import example_psql as creds\n",
    "import pandas.io.sql as psql\n",
    "\n",
    "connection_string = \"host\" + creds.PGHOST + \"ports\" + \"5432\" + \"dbname= \" + \"users=\" + creds.PGUSER + \"password= \" + creds.PGPASS\n",
    "conn= psycopg2.connect(connection_string)\n",
    "print(\"connected\")\n",
    "\n",
    "cursor = conn.cursor()\n",
    "def load_data(schema, table):\n",
    "    sql_commmand = \"SELECT * FROM {}.{}.format(str(schema),str(table))\"\n",
    "    print(sql_command)\n",
    "    data = pd.read_sql(sql_command,conn)\n",
    "    print(data.shape)\n",
    "    return(data)\n",
    "\n",
    "\n"
   ]
  }
 ],
 "metadata": {
  "kernelspec": {
   "display_name": "Python 3",
   "language": "python",
   "name": "python3"
  },
  "language_info": {
   "codemirror_mode": {
    "name": "ipython",
    "version": 3
   },
   "file_extension": ".py",
   "mimetype": "text/x-python",
   "name": "python",
   "nbconvert_exporter": "python",
   "pygments_lexer": "ipython3",
   "version": "3.7.3"
  }
 },
 "nbformat": 4,
 "nbformat_minor": 2
}
