{
 "cells": [
  {
   "cell_type": "code",
   "execution_count": 1,
   "metadata": {},
   "outputs": [],
   "source": [
    "#import required functions\n",
    "import warnings\n",
    "warnings.filterwarnings(\"ignore\")\n",
    "import math\n",
    "import os\n",
    "import pandas as pd\n",
    "from pandas import ExcelWriter\n",
    "from pandas import ExcelFile\n",
    "import pylab as plt\n",
    "import numpy as np\n",
    "from IPython.display import Image\n",
    "import matplotlib as matplotlib\n",
    "import datetime\n",
    "from pandas import DataFrame\n",
    "from openpyxl import load_workbook\n",
    "from openpyxl.drawing.image import Image\n",
    "from statsmodels.tsa.statespace.sarimax import SARIMAX\n",
    "import statsmodels.api as sm\n",
    "import matplotlib.pyplot as plt; plt.rcdefaults()\n",
    "import matplotlib.pyplot as plt\n",
    "plt.style.use('fivethirtyeight')\n",
    "import itertools\n",
    "from fbprophet import Prophet\n",
    "from scipy.interpolate import interp1d\n",
    "from sklearn.preprocessing import StandardScaler\n",
    "from boto.mws.connection import MWSConnection\n",
    "import mws\n",
    "from bs4 import BeautifulSoup\n",
    "import mechanize\n",
    "import urllib.request\n",
    "import http.cookiejar as cookielib\n",
    "import requests\n",
    "from pprint import pprint\n",
    "import random"
   ]
  },
  {
   "cell_type": "code",
   "execution_count": 2,
   "metadata": {},
   "outputs": [],
   "source": [
    "filenamefinal= '/Users/JoyThompson/Desktop/AMAZONPRODSCRAPERfinal.xlsx'\n",
    "filenamefinal2= '/Users/JoyThompson/Desktop/AMAZONPRODSCRAPERCOMBINED.xlsx'\n",
    "writer = pd.ExcelWriter(filenamefinal, engine='xlsxwriter')\n",
    "\n",
    "filename =  '/Users/JoyThompson/Desktop/search terms.xlsx'\n",
    "termpd = pd.read_excel(filename, sheetname='terms')\n",
    "termpd=termpd.groupby('Customer Search Term')['Impressions', 'Clicks', 'Spend'].sum().reset_index()\n",
    "termpd=termpd.set_index('Customer Search Term')\n",
    "\n",
    "skupd = pd.read_excel(filename, sheetname='skus')\n",
    "for sku in skupd.index:\n",
    "    match=skupd.loc[sku, 'Title']\n",
    "    skupd.loc[sku, 'Product Name']=str(match)\n",
    "skupdprod=skupd.set_index('Product Name')\n",
    "skupdsku=skupd.set_index('SKU')"
   ]
  },
  {
   "cell_type": "code",
   "execution_count": 3,
   "metadata": {},
   "outputs": [],
   "source": [
    "agentlist = [ 'Mozilla/5.0 (Windows NT 10.0; Win64; x64) AppleWebKit/537.36 (KHTML, like Gecko) Chrome/60.0.3112.113 Safari/537.36',\n",
    "    'Mozilla/5.0 (Windows NT 6.1; Win64; x64) AppleWebKit/537.36 (KHTML, like Gecko) Chrome/60.0.3112.90 Safari/537.36',\n",
    "    'Mozilla/5.0 (Windows NT 5.1; Win64; x64) AppleWebKit/537.36 (KHTML, like Gecko) Chrome/60.0.3112.90 Safari/537.36',\n",
    "    'Mozilla/5.0 (Windows NT 6.2; Win64; x64) AppleWebKit/537.36 (KHTML, like Gecko) Chrome/60.0.3112.90 Safari/537.36',\n",
    "    'Mozilla/5.0 (X11; Linux x86_64) AppleWebKit/537.36 (KHTML, like Gecko) Chrome/44.0.2403.157 Safari/537.36',\n",
    "    'Mozilla/5.0 (Windows NT 6.3; Win64; x64) AppleWebKit/537.36 (KHTML, like Gecko) Chrome/60.0.3112.113 Safari/537.36',\n",
    "    'Mozilla/5.0 (Windows NT 10.0; Win64; x64) AppleWebKit/537.36 (KHTML, like Gecko) Chrome/57.0.2987.133 Safari/537.36',\n",
    "    'Mozilla/5.0 (Windows NT 6.1; Win64; x64) AppleWebKit/537.36 (KHTML, like Gecko) Chrome/57.0.2987.133 Safari/537.36',\n",
    "    'Mozilla/5.0 (Windows NT 10.0; Win64; x64) AppleWebKit/537.36 (KHTML, like Gecko) Chrome/55.0.2883.87 Safari/537.36',\n",
    "    'Mozilla/5.0 (Windows NT 6.1; Win64; x64) AppleWebKit/537.36 (KHTML, like Gecko) Chrome/55.0.2883.87 Safari/537.36',\n",
    "    'Mozilla/4.0 (compatible; MSIE 9.0; Windows NT 6.1)',\n",
    "    'Mozilla/5.0 (Windows NT 6.1; WOW64; Trident/7.0; rv:11.0) like Gecko',\n",
    "    'Mozilla/5.0 (compatible; MSIE 9.0; Windows NT 6.1; WOW64; Trident/5.0)',\n",
    "    'Mozilla/5.0 (Windows NT 6.1; Trident/7.0; rv:11.0) like Gecko',\n",
    "    'Mozilla/5.0 (Windows NT 6.2; WOW64; Trident/7.0; rv:11.0) like Gecko',\n",
    "    'Mozilla/5.0 (Windows NT 10.0; WOW64; Trident/7.0; rv:11.0) like Gecko',\n",
    "    'Mozilla/5.0 (compatible; MSIE 9.0; Windows NT 6.0; Trident/5.0)',\n",
    "    'Mozilla/5.0 (Windows NT 6.3; WOW64; Trident/7.0; rv:11.0) like Gecko',\n",
    "    'Mozilla/5.0 (compatible; MSIE 9.0; Windows NT 6.1; Trident/5.0)',\n",
    "    'Mozilla/5.0 (Windows NT 6.1; Win64; x64; Trident/7.0; rv:11.0) like Gecko',\n",
    "    'Mozilla/5.0 (compatible; MSIE 10.0; Windows NT 6.1; WOW64; Trident/6.0)',\n",
    "    'Mozilla/5.0 (compatible; MSIE 10.0; Windows NT 6.1; Trident/6.0)',\n",
    "    'Mozilla/4.0 (compatible; MSIE 8.0; Windows NT 5.1; Trident/4.0; .NET CLR 2.0.50727; .NET CLR 3.0.4506.2152; .NET CLR 3.5.30729)']"
   ]
  },
  {
   "cell_type": "code",
   "execution_count": 4,
   "metadata": {},
   "outputs": [],
   "source": [
    "def getaztext(term, agentlist, page): \n",
    "    \n",
    "    url='https://www.amazon.com/dp/s?k=' + term + '&page=' + str(page)\n",
    "    useragent = random.choice(agentlist)\n",
    "    headers = {'authority': 'www.amazon.com', 'pragma': 'no-cache',  'cache-control': 'no-cache',    'dnt': '1', 'upgrade-insecure-requests': '1',     'user-agent': useragent,\n",
    "        'sec-fetch-site': 'none', 'sec-fetch-mode': 'navigate', 'sec-fetch-dest': 'document',     'accept-language': 'en-GB,en-US;q=0.9,en;q=0.8'}\n",
    "    response =urllib.request.Request(url, headers=headers)\n",
    "    try:\n",
    "        result = urllib.request.urlopen(response)\n",
    "        resulttext = result.read()\n",
    "        soup = BeautifulSoup(resulttext)\n",
    "        \n",
    "        for script in soup([\"script\", \"style\"]):\n",
    "            script.extract()    \n",
    "        text = soup.get_text()\n",
    "        lines = (line.strip() for line in text.splitlines())\n",
    "        chunks = (phrase.strip() for line in lines for phrase in line.split(\"  \"))\n",
    "        text = '\\n'.join(chunk for chunk in chunks if chunk)\n",
    "    \n",
    "    except:\n",
    "        pass   \n",
    "        text='star'\n",
    "    return text"
   ]
  },
  {
   "cell_type": "code",
   "execution_count": 5,
   "metadata": {
    "scrolled": true
   },
   "outputs": [],
   "source": [
    "def getrankings(term, agentlist, skupdprod, skuoutpd):\n",
    "    dfterm=pd.DataFrame(columns=['Product','SKU' ,'Ranking'])\n",
    "    \n",
    "    count=0\n",
    "    for page in range(1,7):\n",
    "        text = getaztext(term, agentlist, page)\n",
    "        items=text[text.find(\"Amazon's\\nChoice\"):text.find('Go back to filtering menu')]\n",
    "        allprod=items.split('stars')\n",
    "        \n",
    "        for prod in allprod:\n",
    "            if len(prod.split('\\n')) >3:\n",
    "                count=count+1\n",
    "                prod=str(prod.split('\\n')[-2])\n",
    "           \n",
    "                if prod in skupdprod.index:\n",
    "                    sku=skupdprod.loc[prod, 'SKU']\n",
    "            \n",
    "                    if prod not in dfterm['Product']:\n",
    "                        dfterm=dfterm.append({'Product':prod, 'SKU': sku, 'Ranking': count}, ignore_index=True)\n",
    "                        skuoutpd=skuoutpd.append({'Term':term, 'Product':prod, 'SKU': sku, 'Ranking': count}, ignore_index=True)\n",
    "                    \n",
    "    return dfterm, skuoutpd"
   ]
  },
  {
   "cell_type": "code",
   "execution_count": 6,
   "metadata": {},
   "outputs": [],
   "source": [
    "skuoutpd=pd.DataFrame(columns=['Term','SKU', 'Product', 'Ranking'])\n",
    "for term in termpd.index:\n",
    "    term=term.replace(' ' , '+')\n",
    "    dfterm, skuoutpd=getrankings(term, agentlist, skupdprod, skuoutpd)\n",
    "    sheetterm=term[0:30]\n",
    "    dfterm.to_excel(writer, sheet_name=sheetterm)\n",
    "writer.save()"
   ]
  },
  {
   "cell_type": "code",
   "execution_count": 7,
   "metadata": {},
   "outputs": [],
   "source": [
    "termout=skuoutpd.groupby('Term').sum().reset_index()\n",
    "termout=termout.set_index('Term')\n",
    "collist=['Product Name']\n",
    "for term in termout.index:\n",
    "    collist.append(term)\n",
    "\n",
    "finalout=pd.DataFrame(index=skupdsku.index, columns=collist)\n",
    "\n",
    "for sku in finalout.index:\n",
    "    name=skupdsku.loc[sku,'Product Name']\n",
    "    finalout.loc[sku, 'Product Name']=name\n",
    "    \n",
    "for ind in skuoutpd.index:\n",
    "    sku=skuoutpd.loc[ind, 'SKU']\n",
    "    term=skuoutpd.loc[ind, 'Term']\n",
    "    rank=skuoutpd.loc[ind, 'Ranking']\n",
    "    finalout.loc[sku, term]=rank"
   ]
  },
  {
   "cell_type": "code",
   "execution_count": 8,
   "metadata": {},
   "outputs": [],
   "source": [
    "filenamefinal2= '/Users/JoyThompson/Desktop/Amazon Organic Rank Dammit Dolls Search Terms.xlsx'\n",
    "writer = pd.ExcelWriter(filenamefinal2, engine='xlsxwriter')\n",
    "finalout.to_excel(writer, sheet_name='Ranking by SKU and Search Term')\n",
    "writer.save()"
   ]
  }
 ],
 "metadata": {
  "kernelspec": {
   "display_name": "Python 3",
   "language": "python",
   "name": "python3"
  },
  "language_info": {
   "codemirror_mode": {
    "name": "ipython",
    "version": 3
   },
   "file_extension": ".py",
   "mimetype": "text/x-python",
   "name": "python",
   "nbconvert_exporter": "python",
   "pygments_lexer": "ipython3",
   "version": "3.7.3"
  }
 },
 "nbformat": 4,
 "nbformat_minor": 2
}
