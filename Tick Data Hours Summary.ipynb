{
 "cells": [
  {
   "cell_type": "code",
   "execution_count": 8,
   "metadata": {},
   "outputs": [],
   "source": [
    "#Import useful functions\n",
    "import warnings\n",
    "warnings.filterwarnings(\"ignore\")\n",
    "import itertools\n",
    "import xlrd\n",
    "import xlwt\n",
    "import pandas as pd\n",
    "from pandas import ExcelWriter\n",
    "from pandas import ExcelFile\n",
    "import pylab as plt\n",
    "import numpy as np\n",
    "import xlsxwriter\n",
    "from xlrd import open_workbook\n",
    "from datetime import datetime\n",
    "plt.style.use('fivethirtyeight')"
   ]
  },
  {
   "cell_type": "code",
   "execution_count": 9,
   "metadata": {},
   "outputs": [],
   "source": [
    "#Designate filename of original tick data excel file\n",
    "filenameorig = '/Users/JoyThompson/Desktop/Tick Data/JoyTickData.xlsx'\n",
    "#Read the excel file and write to a pandas dataframe\n",
    "tick = pd.read_excel(filenameorig, sheetname='Breakdown')\n",
    "#Set the index of the tick data dataframe to the index to parse through all data values\n",
    "#Designate the filename of the excel file to write the new dataframe to\n",
    "filenameorig2= '/Users/JoyThompson/Desktop/Tick Data/ckemployees.xlsx'\n",
    "#Initialize excel writer to open and write to the above designated file\n",
    "ckem = pd.read_excel(filenameorig2, sheetname='Sheet1')\n",
    "ckem=ckem.set_index('Employee')\n",
    "filenamefinal= '/Users/JoyThompson/Desktop/Tick Data/Tick Data Summary.xlsx'\n",
    "writer = pd.ExcelWriter(filenamefinal, engine='xlsxwriter')"
   ]
  },
  {
   "cell_type": "code",
   "execution_count": 10,
   "metadata": {},
   "outputs": [],
   "source": [
    "tickdata=tick\n",
    "tickdata['Department']=''\n",
    "for ind in tickdata.index:\n",
    "    em=tickdata.loc[ind, 'User']\n",
    "    dep=ckem.loc[em, 'Department']\n",
    "    tickdata.loc[ind, 'Department']=dep"
   ]
  },
  {
   "cell_type": "code",
   "execution_count": 11,
   "metadata": {},
   "outputs": [],
   "source": [
    "tickdatag=tickdata.groupby('Department').sum()\n",
    "tickdatag=tickdatag.drop(columns=['Project Total', 'Task Total'])\n",
    "tickdatag=tickdatag.rename(columns={'User Total':'Department Total'})"
   ]
  },
  {
   "cell_type": "code",
   "execution_count": 12,
   "metadata": {},
   "outputs": [],
   "source": [
    "tickem=tickdata.groupby('User').sum()\n",
    "tickem=tickem.drop(columns=['Project Total', 'Task Total'])\n",
    "for ind in tickem.index:\n",
    "  \n",
    "    dep=ckem.loc[ind, 'Department']\n",
    "    tickem.loc[ind, 'Department']=dep\n",
    "\n",
    "tickem=tickem.sort_values('Department')\n",
    "tickem=tickem.reset_index()"
   ]
  },
  {
   "cell_type": "code",
   "execution_count": 13,
   "metadata": {},
   "outputs": [],
   "source": [
    "tickem['Department Total']=''\n",
    "deplist=[]\n",
    "for ind in tickem.index:\n",
    "    dep=tickem.loc[ind, 'Department']\n",
    "    deptot=tickdatag.loc[dep, 'Department Total']\n",
    "    if dep in deplist:\n",
    "        tickem.loc[ind, 'Department']=''\n",
    "        tickem.loc[ind, 'Department Total']=''\n",
    "    else:\n",
    "        deplist.append(dep)\n",
    "        tickem.loc[ind, 'Department Total']=deptot"
   ]
  },
  {
   "cell_type": "code",
   "execution_count": 7,
   "metadata": {},
   "outputs": [],
   "source": [
    "tick.to_excel(writer, sheet_name='Tick Data Complete')\n",
    "tickdatag.to_excel(writer, sheet_name='Tick Data Summary')\n",
    "tickem.to_excel(writer, sheet_name='Tick Employee Summary')\n",
    "writer.save()"
   ]
  }
 ],
 "metadata": {
  "kernelspec": {
   "display_name": "Python 3",
   "language": "python",
   "name": "python3"
  },
  "language_info": {
   "codemirror_mode": {
    "name": "ipython",
    "version": 3
   },
   "file_extension": ".py",
   "mimetype": "text/x-python",
   "name": "python",
   "nbconvert_exporter": "python",
   "pygments_lexer": "ipython3",
   "version": "3.7.3"
  }
 },
 "nbformat": 4,
 "nbformat_minor": 2
}
