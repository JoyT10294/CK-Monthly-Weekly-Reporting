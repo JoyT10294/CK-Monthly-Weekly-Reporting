{
 "cells": [
  {
   "cell_type": "markdown",
   "metadata": {
    "slideshow": {
     "slide_type": "slide"
    }
   },
   "source": [
    "# Lecture 6 - Unstructured Data and APIs\n",
    "\n",
    "<center>\n",
    "<img src=\"images/unstructured_data.jpeg\" width=\"500\">\n",
    "</center>"
   ]
  },
  {
   "cell_type": "markdown",
   "metadata": {
    "slideshow": {
     "slide_type": "subslide"
    }
   },
   "source": [
    "## Definition of unstructured data\n",
    "\n",
    "Data that does not have a clear pre-defined structure.\n",
    "\n",
    "* Text documents\n",
    "* Websites\n",
    "* Videos\n",
    "* Course documents\n",
    "\n",
    "Definition is imprecise because \"structure\" may be implicit or hidden."
   ]
  },
  {
   "cell_type": "markdown",
   "metadata": {
    "slideshow": {
     "slide_type": "subslide"
    }
   },
   "source": [
    "## Working with \"unstructured\" data\n",
    "\n",
    "To analyze \"unstructured\" data you must impart some structure on it. Schema-free databases facilitate working with data with no (or ill-defined) structure.\n",
    "\n",
    "** schema-free vs. schema** is more clearly defined than ** structured vs. unstructured**.\n",
    "\n",
    "#### Schema-free advantages\n",
    "\n",
    "* flexible\n",
    "* quick to set up\n",
    "* easy to evolve/reconfigure\n",
    "\n",
    "#### Schema-free disadvantages\n",
    "\n",
    "* slow(er) to query\n",
    "* harder to maintain\n",
    "* some structure must still be defined"
   ]
  },
  {
   "cell_type": "markdown",
   "metadata": {
    "slideshow": {
     "slide_type": "subslide"
    }
   },
   "source": [
    "## How to work with \"unstructured\" data?\n",
    "\n",
    "#### Extracting \"structure\" from unstructured data\n",
    "* text processing (natural language processing) - entire field of CS!\n",
    "* data \"scraping\" - BeautifulSoup python package\n",
    "* API's (technically not \"unstructured\")\n",
    "\n",
    "Text processing and data scraping are beyond the scope of this class, but there are many tutorials online. API's (Application Programming Interface) are a common way of automatically accessing the structured version of \"unstructured\" data.\n",
    "\n",
    "#### How to work with \"unstructured\" data\n",
    "* JSON files - flexible \"partially structured\" data format\n",
    "* schema-free \"databases\" (MongoDB, ElasticSearch)\n",
    "\n",
    "We will not cover schema-free databases in lecture, but MongoDB is easy to set up and has a nice Python interface (`pymongo`). \n"
   ]
  },
  {
   "cell_type": "markdown",
   "metadata": {
    "slideshow": {
     "slide_type": "subslide"
    }
   },
   "source": [
    "## JSON Files\n",
    "\n",
    "JavaScript Object Notation (JSON) files are a common way of adding structure to data so that it is easier to pass between code and interact with programatically. Although originally developed for JavaScript, JSON is now one of the most widespread file types and is supported by most programming languages.\n",
    "\n",
    "JSON files are very intuitive to use with Python because they are basically just dictionaries and lists. "
   ]
  },
  {
   "cell_type": "code",
   "execution_count": null,
   "metadata": {
    "slideshow": {
     "slide_type": "subslide"
    }
   },
   "outputs": [],
   "source": [
    "import json\n",
    "\n",
    "info = '{\"course\":\"ChBE 4803\", \"instructors\": [\"Medford\", \"Comer\"], \"size\":45}' #<- note single/double quotes!\n",
    "js_info = json.loads(info) #<- json.loads loads from a string, json.load loads from a file.\n",
    "\n",
    "js_info.keys()\n",
    "js_info['course']\n",
    "\n",
    "#JSON is a great format for persistent storage of Python data structures:\n",
    "\n",
    "with open('test.json','w') as f:\n",
    "    json.dump(js_info, f)"
   ]
  },
  {
   "cell_type": "code",
   "execution_count": null,
   "metadata": {
    "slideshow": {
     "slide_type": "fragment"
    }
   },
   "outputs": [],
   "source": [
    "! ls"
   ]
  },
  {
   "cell_type": "code",
   "execution_count": null,
   "metadata": {},
   "outputs": [],
   "source": [
    "with open('test.json','r') as f:\n",
    "    new_info = json.load(f)\n",
    "    \n",
    "new_info.keys()\n",
    "new_info_dict = dict(new_info)\n",
    "new_info_dict"
   ]
  },
  {
   "cell_type": "markdown",
   "metadata": {
    "slideshow": {
     "slide_type": "subslide"
    }
   },
   "source": [
    "## Example: PubChem database\n",
    "\n",
    "[PubChem Search](https://pubchem.ncbi.nlm.nih.gov/)\n",
    "\n",
    "* Extract and work with JSON representation\n",
    "* Use RESTful API to access data programatically\n",
    "* Demonstrate Python \"wrapper\" for the API"
   ]
  },
  {
   "cell_type": "markdown",
   "metadata": {
    "slideshow": {
     "slide_type": "subslide"
    }
   },
   "source": [
    "#### Goal 1: Extract SMILES representation, molecular weight, and boiling point from PubChem JSON file."
   ]
  },
  {
   "cell_type": "code",
   "execution_count": null,
   "metadata": {
    "slideshow": {
     "slide_type": "fragment"
    }
   },
   "outputs": [],
   "source": [
    "import json\n",
    "\n",
    "with open('ammonia.json') as f:\n",
    "    nh3 = json.load(f)"
   ]
  },
  {
   "cell_type": "code",
   "execution_count": null,
   "metadata": {
    "slideshow": {
     "slide_type": "fragment"
    }
   },
   "outputs": [],
   "source": [
    "# Explore JSON structure"
   ]
  },
  {
   "cell_type": "markdown",
   "metadata": {
    "slideshow": {
     "slide_type": "subslide"
    }
   },
   "source": [
    "Working with JSON data can be challenging if there are many nested structures, headers, etc. It is very useful to use a visualization tool:\n",
    "\n",
    "* [JSON Viewer](http://jsonviewer.stack.hu/)\n",
    "* [Code Beautify](https://codebeautify.org/jsonviewer)\n",
    "* [Chrome Extension](https://chrome.google.com/webstore/detail/json-viewer/gbmdgpbipfallnflgajpaliibnhdgobh?hl=en-US)\n",
    "\n",
    "From the visualizer we can see how to extract the information we need."
   ]
  },
  {
   "cell_type": "code",
   "execution_count": null,
   "metadata": {
    "slideshow": {
     "slide_type": "fragment"
    }
   },
   "outputs": [],
   "source": [
    "SMILES = nh3['Record']['Section'][3]['Section'][2]['Section'][3]['Information'][0]['StringValue']\n",
    "MW = nh3['Record']['Section'][4]['Section'][0]['Information'][0]['Table']['Row'][0]['Cell'][1]['NumValue']\n",
    "BP = nh3['Record']['Section'][4]['Section'][1]['Section'][3]['Information'][2]['StringValue']\n",
    "BP, C = BP.split('°')\n",
    "SMILES\n",
    "\n",
    "## What can go wrong here???"
   ]
  },
  {
   "cell_type": "markdown",
   "metadata": {
    "slideshow": {
     "slide_type": "subslide"
    }
   },
   "source": [
    "Converting unstructured information to structured is tedious! The goal and challenge is to not just do this once, but do it in a way that works for other inputs. This can be even more challenging:"
   ]
  },
  {
   "cell_type": "code",
   "execution_count": null,
   "metadata": {
    "slideshow": {
     "slide_type": "fragment"
    }
   },
   "outputs": [],
   "source": [
    "with open('cisplatino.json') as f:\n",
    "    cp = json.load(f)"
   ]
  },
  {
   "cell_type": "code",
   "execution_count": null,
   "metadata": {
    "slideshow": {
     "slide_type": "fragment"
    }
   },
   "outputs": [],
   "source": [
    "SMILES = cp['Record']['Section'][3]['Section'][2]['Section'][3]['Information'][0]['StringValue']"
   ]
  },
  {
   "cell_type": "code",
   "execution_count": null,
   "metadata": {
    "slideshow": {
     "slide_type": "fragment"
    }
   },
   "outputs": [],
   "source": [
    "def section_by_name(sections, name):\n",
    "    \"\"\" Take a list of Sections from PubChem JSON and return the section with a given name\"\"\"\n",
    "    for s in sections:\n",
    "        if s['TOCHeading'] == name:\n",
    "            return s\n",
    "        \n",
    "section_by_name(cp['Record']['Section'], \"Names and Identifiers\")"
   ]
  },
  {
   "cell_type": "markdown",
   "metadata": {
    "slideshow": {
     "slide_type": "subslide"
    }
   },
   "source": [
    "We can use this new function to create a more robust way of extracting info from the PubChem JSON:"
   ]
  },
  {
   "cell_type": "code",
   "execution_count": null,
   "metadata": {},
   "outputs": [],
   "source": [
    "def get_info(pc_json):\n",
    "    \"\"\" Return the SMILES string, molecular weight, and boiling point from a PubChem JSON file\"\"\"\n",
    "    info = {} #<- we can store the info in this string as we grab it\n",
    "    ## Get SMILES string:\n",
    "    namesec = section_by_name(pc_json['Record']['Section'], \"Names and Identifiers\")\n",
    "    descsec = section_by_name(namesec['Section'], \"Computed Descriptors\")\n",
    "    smilesec = section_by_name(descsec['Section'], \"Canonical SMILES\")\n",
    "    SMILES = smilesec['Information'][0]['StringValue'] #<- we are assuming that there is only one entry here.\n",
    "    info['SMILES'] = SMILES\n",
    "    \n",
    "    ## Get molecular weight\n",
    "    propsec = section_by_name(pc_json['Record']['Section'],'Chemical and Physical Properties')\n",
    "    compsec = section_by_name(propsec['Section'],'Computed Properties')\n",
    "    MW = compsec['Information'][0]['Table']['Row'][0]['Cell'][1]['NumValue'] #<- we are assuming the table has a fixed structure\n",
    "    info['molecular_weight'] = MW\n",
    "    \n",
    "    ## Get boiling point\n",
    "    \n",
    "    ### boiling point is in the same properties section as molecular weight, so start from there\n",
    "    expsec = section_by_name(propsec['Section'],\"Experimental Properties\")\n",
    "    bpsec = section_by_name(expsec['Section'], \"Boiling Point\")\n",
    "    bpstring = bpsec['Information'][2]['StringValue'] #<- two problems!\n",
    "    \n",
    "    ## discuss how to handle problems\n",
    "    \n",
    "    return(info)\n",
    "    \n",
    "get_info(cp)"
   ]
  },
  {
   "cell_type": "markdown",
   "metadata": {
    "slideshow": {
     "slide_type": "subslide"
    }
   },
   "source": [
    "Even with semi-structured data (JSON), it can be challenging to robustly and reliably extract structured information for analysis!"
   ]
  },
  {
   "cell_type": "markdown",
   "metadata": {
    "slideshow": {
     "slide_type": "slide"
    }
   },
   "source": [
    "## API's (Application Programming Interfaces)\n",
    "\n",
    "API's are like GUI's for experts. They are not limited to \"unstructured\" data, or even data in general. API is a term for any programmatic structure that makes it easier to interact with a more complex underlying code or data structure. However, they are particularly prevalent in data science because accessing data is much less painful."
   ]
  },
  {
   "cell_type": "markdown",
   "metadata": {
    "slideshow": {
     "slide_type": "subslide"
    }
   },
   "source": [
    "## RESTful API's\n",
    "\n",
    "REST stands for \"representational state transfer\", and is a protocol that enables accessing data directly through a URL. This is a very common and very powerful approach because it allows the data provider to abstract the database back-end from the API. In other words, data providers can provide a uniform interface to data in relational (schema-driven) databases, schema-free databases, file servers, or services in any programming language. All the user needs to know is how to \"query\" from a URL. If you pay attention to URL's as you browse the web you will see that you use RESTful API's all the time without knowing it!\n",
    "\n",
    "<center>\n",
    "<img src=\"images/RESTful.png\" width=\"500\">\n",
    "</center>"
   ]
  },
  {
   "cell_type": "markdown",
   "metadata": {
    "slideshow": {
     "slide_type": "subslide"
    }
   },
   "source": [
    "RESTful API's are simple enough that you can use them without specialized libraries. You just need to use HTTP protocol, which is implemented in the `requests` Python library:"
   ]
  },
  {
   "cell_type": "code",
   "execution_count": null,
   "metadata": {
    "slideshow": {
     "slide_type": "fragment"
    }
   },
   "outputs": [],
   "source": [
    "import requests\n",
    "\n",
    "response = requests.get(\"http://www.chbe.gatech.edu/\")\n",
    "response.text"
   ]
  },
  {
   "cell_type": "markdown",
   "metadata": {
    "slideshow": {
     "slide_type": "subslide"
    }
   },
   "source": [
    "RESTful API's are designed to return data in specific structures, and respond to specific queries that are embedded in the URL. A few notes:\n",
    "\n",
    "* Many API's require a \"key\" or \"token\". This is to avoid spammers overloading their servers.\n",
    "* Most API's also limit the amount of data per request, and the rate of requests.\n",
    "* It is still necessary to understand the underlying structure of the data you are querying.\n",
    "\n",
    "You should always start by reading the documentation of an API to learn what you can/can't do."
   ]
  },
  {
   "cell_type": "markdown",
   "metadata": {
    "slideshow": {
     "slide_type": "subslide"
    }
   },
   "source": [
    "#### Goal 2: Use PubChem RESTful API to automatically get SMILES representation of a given compound\n",
    "\n",
    "[PubChem API tutorial documentation](http://pubchemdocs.ncbi.nlm.nih.gov/pug-rest-tutorial$_Toc458584421)\n",
    "\n",
    "[PubChem API full documentation](http://pubchemdocs.ncbi.nlm.nih.gov/pug-rest)\n",
    "\n",
    "Let's start by seeing if we can get the \"search\" part to work"
   ]
  },
  {
   "cell_type": "code",
   "execution_count": null,
   "metadata": {
    "slideshow": {
     "slide_type": "fragment"
    }
   },
   "outputs": [],
   "source": [
    "r = requests.get('https://pubchem.ncbi.nlm.nih.gov/rest/pug/compound/name/ammonia/cids/TXT')\n",
    "r.text #<- this is the CID of the compound    "
   ]
  },
  {
   "cell_type": "code",
   "execution_count": null,
   "metadata": {
    "slideshow": {
     "slide_type": "fragment"
    }
   },
   "outputs": [],
   "source": [
    "def get_CID(chemical):\n",
    "    r = requests.get('https://pubchem.ncbi.nlm.nih.gov/rest/pug/compound/name/{}/cids/TXT'.format(chemical))\n",
    "    return r.text\n",
    "\n",
    "cid = get_CID('ammonia')\n",
    "print(cid)"
   ]
  },
  {
   "cell_type": "markdown",
   "metadata": {
    "slideshow": {
     "slide_type": "subslide"
    }
   },
   "source": [
    "Now we need to understand the structure of the query to decide how to search. From the documentation:\n",
    "\n",
    "* prolog: `https://pubchem.ncbi.nlm.nih.gov/rest/pug`\n",
    "\n",
    "* input: `/compound/name/ammonia`\n",
    "\n",
    "* operation: `/cids`\n",
    "\n",
    "* output: `/TXT`\n",
    "\n",
    "We already have the input operation working, and since we just want SMILES the output can also be TXT. We just need to modify the operation."
   ]
  },
  {
   "cell_type": "code",
   "execution_count": null,
   "metadata": {
    "slideshow": {
     "slide_type": "fragment"
    }
   },
   "outputs": [],
   "source": [
    "def get_SMILES(chemical):\n",
    "    r = requests.get('https://pubchem.ncbi.nlm.nih.gov/rest/pug/compound/name/{}/property/CanonicalSMILES/TXT'.format(chemical))\n",
    "    return r.text\n",
    "\n",
    "N = get_SMILES('cisplatino')\n",
    "print(N)"
   ]
  },
  {
   "cell_type": "markdown",
   "metadata": {
    "slideshow": {
     "slide_type": "subslide"
    }
   },
   "source": [
    "This is much easier, less memory intensive, and more robust, than trying to extract the property from the full output! However, if you do really want to parse from the full output you can do that too:"
   ]
  },
  {
   "cell_type": "code",
   "execution_count": null,
   "metadata": {
    "slideshow": {
     "slide_type": "fragment"
    }
   },
   "outputs": [],
   "source": [
    "def get_full(chemical):\n",
    "    r = requests.get('https://pubchem.ncbi.nlm.nih.gov/rest/pug/compound/name/{}/record/json'.format(chemical))\n",
    "    return r.text\n",
    "\n",
    "json_string = get_full('ammonia')\n",
    "nh3 = json.loads(json_string)\n",
    "nh3['PC_Compounds'] #<- Note that this JSON is in a very different structure from the original!"
   ]
  },
  {
   "cell_type": "markdown",
   "metadata": {
    "slideshow": {
     "slide_type": "slide"
    }
   },
   "source": [
    "## Python API's\n",
    "\n",
    "RESTful API's are widely used and easy to interact with. However, reading the documentation and converting more complex queries into the proper URL can be tedious and time consuming. Furthermore, not all data sources use RESTful API's.\n",
    "\n",
    "Python is one of the most common languages for API's, and widely-used data sources (e.g. PubChem) will often have a Python \"wrapper\" for their RESTful API.\n",
    "\n",
    "We can use the [PubChemPy](https://pypi.python.org/pypi/PubChemPy/1.0) API to achieve the same goal, but we will need to install it first:\n",
    "\n",
    "`pip install PubChemPy`"
   ]
  },
  {
   "cell_type": "code",
   "execution_count": null,
   "metadata": {
    "slideshow": {
     "slide_type": "fragment"
    }
   },
   "outputs": [],
   "source": [
    "import pubchempy as pcp\n",
    "#Now we have access to some more intuitive function names and documentation\n",
    "#help(pcp)\n",
    "dir(pcp)"
   ]
  },
  {
   "cell_type": "markdown",
   "metadata": {
    "slideshow": {
     "slide_type": "subslide"
    }
   },
   "source": [
    "Python APIs make code more readable, and are more intuitive to learn:"
   ]
  },
  {
   "cell_type": "code",
   "execution_count": null,
   "metadata": {
    "slideshow": {
     "slide_type": "fragment"
    }
   },
   "outputs": [],
   "source": [
    "compounds = pcp.get_compounds('Ammonia','name')\n",
    "nh3 = compounds[0]\n",
    "nh3.atoms #<- the full .json output is already parsed into a nice Python data structure\n",
    "nh3.bonds"
   ]
  },
  {
   "cell_type": "markdown",
   "metadata": {
    "slideshow": {
     "slide_type": "subslide"
    }
   },
   "source": [
    "We can access the same SMILES string via the Python API:"
   ]
  },
  {
   "cell_type": "code",
   "execution_count": null,
   "metadata": {
    "slideshow": {
     "slide_type": "fragment"
    }
   },
   "outputs": [],
   "source": [
    "dir(nh3) #<- the Python API doesn't store the SMILES string by default"
   ]
  },
  {
   "cell_type": "code",
   "execution_count": null,
   "metadata": {
    "slideshow": {
     "slide_type": "fragment"
    }
   },
   "outputs": [],
   "source": [
    "p = pcp.get_properties('CanonicalSMILES', 'ammonia', 'name')\n",
    "print(p) #<- this works, but is it really better than the RESTful version?"
   ]
  },
  {
   "cell_type": "markdown",
   "metadata": {
    "slideshow": {
     "slide_type": "subslide"
    }
   },
   "source": [
    "## Conclusion\n",
    "\n",
    "* Unstructured data provides a flexible solution to digital data storage\n",
    "* Most data generated by others is available only as \"unstructured\" data\n",
    "* Unstructured data can be \"structured\" manually or by using API's\n",
    "\n",
    "When retrieving data it is a good idea to read about all of the available retrieval strategies (web scraping, direct download, RESTful API's, Python API's) and design a strategy that maximizes efficiency and flexibility.\n",
    "\n",
    "When storing your own data you should find a balance between \"unstructured\" and \"structured\" that makes sense based on your project. Consider setting up a (schema-free) database and/or custom API to create a seamless interface between your data source and your analysis code."
   ]
  },
  {
   "cell_type": "markdown",
   "metadata": {
    "slideshow": {
     "slide_type": "slide"
    }
   },
   "source": [
    "## Further Reading\n",
    "\n",
    "* [Hitchhiker's Guide to Python JSON tutorial](http://docs.python-guide.org/en/latest/scenarios/json/)\n",
    "* [RESTful details](https://restfulapi.net/)\n",
    "* [PubChem RESTful API tutorial](http://pubchemdocs.ncbi.nlm.nih.gov/pug-rest-tutorial)\n",
    "* [PubChem Python API documentation](https://pypi.python.org/pypi/PubChemPy/1.0)"
   ]
  }
 ],
 "metadata": {
  "celltoolbar": "Slideshow",
  "kernelspec": {
   "display_name": "Python 3",
   "language": "python",
   "name": "python3"
  },
  "language_info": {
   "codemirror_mode": {
    "name": "ipython",
    "version": 3
   },
   "file_extension": ".py",
   "mimetype": "text/x-python",
   "name": "python",
   "nbconvert_exporter": "python",
   "pygments_lexer": "ipython3",
   "version": "3.6.3"
  }
 },
 "nbformat": 4,
 "nbformat_minor": 2
}
