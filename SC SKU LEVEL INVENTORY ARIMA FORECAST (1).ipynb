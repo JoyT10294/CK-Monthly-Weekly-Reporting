{
 "cells": [
  {
   "cell_type": "code",
   "execution_count": 1,
   "metadata": {},
   "outputs": [],
   "source": [
    "#Import useful functions\n",
    "import warnings\n",
    "import statistics\n",
    "warnings.filterwarnings(\"ignore\")\n",
    "from sklearn import svm, datasets\n",
    "from sklearn.model_selection import train_test_split\n",
    "from sklearn.metrics import confusion_matrix as cm\n",
    "from sklearn.utils.multiclass import unique_labels\n",
    "import itertools\n",
    "from scipy import misc\n",
    "import math\n",
    "import os\n",
    "import glob\n",
    "import xlrd\n",
    "import xlwt\n",
    "import pandas as pd\n",
    "from pandas import ExcelWriter\n",
    "from pandas import ExcelFile\n",
    "from PIL import Image\n",
    "from statsmodels.tsa.statespace.sarimax import SARIMAX\n",
    "import statsmodels.api as sm\n",
    "import pylab as plt\n",
    "import numpy as np\n",
    "from scipy.signal import argrelextrema\n",
    "from IPython.display import Image\n",
    "import matplotlib.patches as patches\n",
    "import matplotlib as matplotlib\n",
    "import xlsxwriter\n",
    "from xlrd import open_workbook\n",
    "from xlutils.copy import copy\n",
    "from sklearn.model_selection import train_test_split\n",
    "from datetime import datetime\n",
    "plt.style.use('fivethirtyeight')\n",
    "import itertools\n",
    "from fbprophet import Prophet\n",
    "from scipy.interpolate import interp1d\n",
    "from sklearn.preprocessing import StandardScaler\n",
    "import xlrd"
   ]
  },
  {
   "cell_type": "code",
   "execution_count": 2,
   "metadata": {},
   "outputs": [],
   "source": [
    "filename='/Users/JoyThompson/Desktop/scdammitdollskulevel.xlsx'\n",
    "sheetname='Sheet1'\n",
    "skuorder=pd.read_excel(filename, sheet_name=sheetname)"
   ]
  },
  {
   "cell_type": "code",
   "execution_count": 3,
   "metadata": {},
   "outputs": [],
   "source": [
    "#Select Arima Test Model Parameters\n",
    "p = d = q = range(0, 2)\n",
    "pdq = list(itertools.product(p, d, q))\n",
    "seasonal_pdq = [(x[0], x[1], x[2], 12) for x in list(itertools.product(p, d, q))]"
   ]
  },
  {
   "cell_type": "code",
   "execution_count": 4,
   "metadata": {},
   "outputs": [],
   "source": [
    "#Create List of Dates\n",
    "datesall=['2018-01-31','2018-02-28','2018-03-31','2018-04-30',\n",
    "         '2018-05-31','2018-06-30','2018-07-31','2018-08-31','2018-09-30','2018-10-31','2018-11-30','2018-12-31','2019-01-31','2019-02-28','2019-03-31','2019-04-30',\n",
    "         '2019-05-31','2019-06-30','2019-07-31','2019-08-31','2019-09-30','2019-10-31','2019-11-30','2019-12-31',\n",
    "         '2020-01-31','2020-02-29','2020-03-31','2020-04-30','2020-05-31','2020-06-30','2020-07-31',\n",
    "         '2020-08-31','2020-09-30','2020-10-31','2020-11-30','2020-12-31','2021-01-31', '2021-02-28', '2021-03-31']\n",
    "#Convert Dates to Datetime Format\n",
    "datestopd=[]\n",
    "for column in datesall:\n",
    "        date=pd.to_datetime(column)\n",
    "        datestopd.append(date)\n",
    "datesinput=datestopd[4:27]\n",
    "datesout=datestopd[-13:]"
   ]
  },
  {
   "cell_type": "code",
   "execution_count": 5,
   "metadata": {},
   "outputs": [],
   "source": [
    "def arimamodel(forecastin):\n",
    "    from statsmodels.tsa.statespace.sarimax import SARIMAX\n",
    "    import statsmodels.api as sm\n",
    "    aicnum=[]\n",
    "    param1=[]\n",
    "    param2=[]\n",
    "    for param in pdq:\n",
    "        for param_seasonal in seasonal_pdq:\n",
    "            try:\n",
    "                results = sm.tsa.statespace.SARIMAX(forecastin,order=param,seasonal_order=param_seasonal, freq='M')\n",
    "                results=results.fit(forecastin)\n",
    "               \n",
    "                param1.append(param)\n",
    "                param2.append(param_seasonal)\n",
    "                aicnum.append(results.aic)\n",
    "            except:\n",
    "                continue\n",
    "    minpos = aicnum.index(min(aicnum)) \n",
    "    ordervar=param1[minpos]\n",
    "    seasonalvar=param2[minpos]\n",
    "    return ordervar, seasonalvar"
   ]
  },
  {
   "cell_type": "code",
   "execution_count": 6,
   "metadata": {},
   "outputs": [],
   "source": [
    "for ind in skuorder.index:\n",
    "    sku=skuorder.loc[ind, 'sku']\n",
    "    skuorder.loc[ind ,'sku']=str(sku)"
   ]
  },
  {
   "cell_type": "code",
   "execution_count": 7,
   "metadata": {},
   "outputs": [
    {
     "name": "stdout",
     "output_type": "stream",
     "text": [
      "['WDS126' 7 10 5 9.3 20.35714285714286 8.857142857142858 24.0\n",
      " 33.81818181818181 8.0 20 30.0 15 14.0 11 5 9 7 20.66666666666666 18 69 13\n",
      " 7.724137931034482 9.0]\n",
      "[69.0 13.0 7.72 9.0]\n",
      "[[-0.68354123]\n",
      " [-0.46286868]\n",
      " [-0.83065627]\n",
      " [-0.51435894]\n",
      " [ 0.29918721]\n",
      " [-0.54672425]\n",
      " [ 0.56693658]\n",
      " [ 1.2892714 ]\n",
      " [-0.60998371]\n",
      " [ 0.2727065 ]\n",
      " [ 1.00828169]\n",
      " [-0.09508109]\n",
      " [-0.16863861]\n",
      " [-0.38931116]\n",
      " [-0.83065627]\n",
      " [-0.5364262 ]\n",
      " [-0.68354123]\n",
      " [ 0.32199004]\n",
      " [ 0.12559147]\n",
      " [ 3.87702489]\n",
      " [-0.24219612]\n",
      " [-0.63057982]\n",
      " [-0.5364262 ]]\n",
      "0      7.00\n",
      "1     10.00\n",
      "2      5.00\n",
      "3      9.30\n",
      "4     20.36\n",
      "5      8.86\n",
      "6     24.00\n",
      "7     33.82\n",
      "8      8.00\n",
      "9     20.00\n",
      "10    30.00\n",
      "11    15.00\n",
      "12    14.00\n",
      "13    11.00\n",
      "14     5.00\n",
      "15     9.00\n",
      "16     7.00\n",
      "17    20.67\n",
      "18    18.00\n",
      "19    69.00\n",
      "20    13.00\n",
      "21     7.72\n",
      "22     9.00\n",
      "Name: y, dtype: float64\n",
      "[-0.68354123 -0.46286868 -0.83065627 -0.51435894  0.29918721 -0.54672425\n",
      "  0.56693658  1.2892714  -0.60998371  0.2727065   1.00828169 -0.09508109\n",
      " -0.16863861 -0.38931116 -0.83065627 -0.5364262  -0.68354123  0.32199004\n",
      "  0.12559147  3.87702489 -0.24219612 -0.63057982 -0.5364262 ]\n",
      "<statsmodels.tsa.statespace.sarimax.SARIMAXResultsWrapper object at 0x0000020C05735E48>\n"
     ]
    },
    {
     "name": "stderr",
     "output_type": "stream",
     "text": [
      "C:\\Users\\JoyThompson\\AppData\\Local\\Continuum\\anaconda3\\lib\\site-packages\\statsmodels\\base\\model.py:512: ConvergenceWarning:\n",
      "\n",
      "Maximum Likelihood optimization failed to converge. Check mle_retvals\n",
      "\n",
      "C:\\Users\\JoyThompson\\AppData\\Local\\Continuum\\anaconda3\\lib\\site-packages\\statsmodels\\base\\model.py:512: ConvergenceWarning:\n",
      "\n",
      "Maximum Likelihood optimization failed to converge. Check mle_retvals\n",
      "\n"
     ]
    },
    {
     "name": "stdout",
     "output_type": "stream",
     "text": [
      "<statsmodels.tsa.statespace.sarimax.SARIMAXResultsWrapper object at 0x0000020C057355F8>\n",
      "<statsmodels.tsa.statespace.sarimax.SARIMAXResultsWrapper object at 0x0000020C05735E80>\n"
     ]
    },
    {
     "name": "stderr",
     "output_type": "stream",
     "text": [
      "C:\\Users\\JoyThompson\\AppData\\Local\\Continuum\\anaconda3\\lib\\site-packages\\statsmodels\\base\\model.py:512: ConvergenceWarning:\n",
      "\n",
      "Maximum Likelihood optimization failed to converge. Check mle_retvals\n",
      "\n",
      "C:\\Users\\JoyThompson\\AppData\\Local\\Continuum\\anaconda3\\lib\\site-packages\\statsmodels\\base\\model.py:512: ConvergenceWarning:\n",
      "\n",
      "Maximum Likelihood optimization failed to converge. Check mle_retvals\n",
      "\n"
     ]
    },
    {
     "name": "stdout",
     "output_type": "stream",
     "text": [
      "<statsmodels.tsa.statespace.sarimax.SARIMAXResultsWrapper object at 0x0000020C05735908>\n"
     ]
    },
    {
     "name": "stderr",
     "output_type": "stream",
     "text": [
      "C:\\Users\\JoyThompson\\AppData\\Local\\Continuum\\anaconda3\\lib\\site-packages\\statsmodels\\base\\model.py:512: ConvergenceWarning:\n",
      "\n",
      "Maximum Likelihood optimization failed to converge. Check mle_retvals\n",
      "\n",
      "C:\\Users\\JoyThompson\\AppData\\Local\\Continuum\\anaconda3\\lib\\site-packages\\statsmodels\\base\\model.py:512: ConvergenceWarning:\n",
      "\n",
      "Maximum Likelihood optimization failed to converge. Check mle_retvals\n",
      "\n"
     ]
    },
    {
     "name": "stdout",
     "output_type": "stream",
     "text": [
      "<statsmodels.tsa.statespace.sarimax.SARIMAXResultsWrapper object at 0x0000020C05735940>\n",
      "<statsmodels.tsa.statespace.sarimax.SARIMAXResultsWrapper object at 0x0000020C05735E48>\n"
     ]
    },
    {
     "name": "stderr",
     "output_type": "stream",
     "text": [
      "C:\\Users\\JoyThompson\\AppData\\Local\\Continuum\\anaconda3\\lib\\site-packages\\statsmodels\\base\\model.py:512: ConvergenceWarning:\n",
      "\n",
      "Maximum Likelihood optimization failed to converge. Check mle_retvals\n",
      "\n"
     ]
    },
    {
     "name": "stdout",
     "output_type": "stream",
     "text": [
      "<statsmodels.tsa.statespace.sarimax.SARIMAXResultsWrapper object at 0x0000020C05735588>\n"
     ]
    },
    {
     "name": "stderr",
     "output_type": "stream",
     "text": [
      "C:\\Users\\JoyThompson\\AppData\\Local\\Continuum\\anaconda3\\lib\\site-packages\\statsmodels\\base\\model.py:512: ConvergenceWarning:\n",
      "\n",
      "Maximum Likelihood optimization failed to converge. Check mle_retvals\n",
      "\n"
     ]
    },
    {
     "name": "stdout",
     "output_type": "stream",
     "text": [
      "<statsmodels.tsa.statespace.sarimax.SARIMAXResultsWrapper object at 0x0000020C05735400>\n"
     ]
    },
    {
     "name": "stderr",
     "output_type": "stream",
     "text": [
      "C:\\Users\\JoyThompson\\AppData\\Local\\Continuum\\anaconda3\\lib\\site-packages\\statsmodels\\base\\model.py:512: ConvergenceWarning:\n",
      "\n",
      "Maximum Likelihood optimization failed to converge. Check mle_retvals\n",
      "\n",
      "C:\\Users\\JoyThompson\\AppData\\Local\\Continuum\\anaconda3\\lib\\site-packages\\statsmodels\\base\\model.py:512: ConvergenceWarning:\n",
      "\n",
      "Maximum Likelihood optimization failed to converge. Check mle_retvals\n",
      "\n"
     ]
    },
    {
     "name": "stdout",
     "output_type": "stream",
     "text": [
      "<statsmodels.tsa.statespace.sarimax.SARIMAXResultsWrapper object at 0x0000020C05735908>\n",
      "<statsmodels.tsa.statespace.sarimax.SARIMAXResultsWrapper object at 0x0000020C057355F8>\n"
     ]
    },
    {
     "name": "stderr",
     "output_type": "stream",
     "text": [
      "C:\\Users\\JoyThompson\\AppData\\Local\\Continuum\\anaconda3\\lib\\site-packages\\statsmodels\\base\\model.py:512: ConvergenceWarning:\n",
      "\n",
      "Maximum Likelihood optimization failed to converge. Check mle_retvals\n",
      "\n"
     ]
    },
    {
     "name": "stdout",
     "output_type": "stream",
     "text": [
      "<statsmodels.tsa.statespace.sarimax.SARIMAXResultsWrapper object at 0x0000020C05735630>\n"
     ]
    },
    {
     "name": "stderr",
     "output_type": "stream",
     "text": [
      "C:\\Users\\JoyThompson\\AppData\\Local\\Continuum\\anaconda3\\lib\\site-packages\\statsmodels\\base\\model.py:512: ConvergenceWarning:\n",
      "\n",
      "Maximum Likelihood optimization failed to converge. Check mle_retvals\n",
      "\n"
     ]
    },
    {
     "name": "stdout",
     "output_type": "stream",
     "text": [
      "<statsmodels.tsa.statespace.sarimax.SARIMAXResultsWrapper object at 0x0000020C057352B0>\n"
     ]
    },
    {
     "name": "stderr",
     "output_type": "stream",
     "text": [
      "C:\\Users\\JoyThompson\\AppData\\Local\\Continuum\\anaconda3\\lib\\site-packages\\statsmodels\\base\\model.py:512: ConvergenceWarning:\n",
      "\n",
      "Maximum Likelihood optimization failed to converge. Check mle_retvals\n",
      "\n",
      "C:\\Users\\JoyThompson\\AppData\\Local\\Continuum\\anaconda3\\lib\\site-packages\\statsmodels\\base\\model.py:512: ConvergenceWarning:\n",
      "\n",
      "Maximum Likelihood optimization failed to converge. Check mle_retvals\n",
      "\n"
     ]
    },
    {
     "name": "stdout",
     "output_type": "stream",
     "text": [
      "<statsmodels.tsa.statespace.sarimax.SARIMAXResultsWrapper object at 0x0000020C05735940>\n",
      "<statsmodels.tsa.statespace.sarimax.SARIMAXResultsWrapper object at 0x0000020C057355C0>\n",
      "<statsmodels.tsa.statespace.sarimax.SARIMAXResultsWrapper object at 0x0000020C05735400>\n"
     ]
    },
    {
     "name": "stderr",
     "output_type": "stream",
     "text": [
      "C:\\Users\\JoyThompson\\AppData\\Local\\Continuum\\anaconda3\\lib\\site-packages\\statsmodels\\base\\model.py:512: ConvergenceWarning:\n",
      "\n",
      "Maximum Likelihood optimization failed to converge. Check mle_retvals\n",
      "\n",
      "C:\\Users\\JoyThompson\\AppData\\Local\\Continuum\\anaconda3\\lib\\site-packages\\statsmodels\\base\\model.py:512: ConvergenceWarning:\n",
      "\n",
      "Maximum Likelihood optimization failed to converge. Check mle_retvals\n",
      "\n"
     ]
    },
    {
     "name": "stdout",
     "output_type": "stream",
     "text": [
      "<statsmodels.tsa.statespace.sarimax.SARIMAXResultsWrapper object at 0x0000020C05735630>\n"
     ]
    },
    {
     "name": "stderr",
     "output_type": "stream",
     "text": [
      "C:\\Users\\JoyThompson\\AppData\\Local\\Continuum\\anaconda3\\lib\\site-packages\\statsmodels\\base\\model.py:512: ConvergenceWarning:\n",
      "\n",
      "Maximum Likelihood optimization failed to converge. Check mle_retvals\n",
      "\n"
     ]
    },
    {
     "name": "stdout",
     "output_type": "stream",
     "text": [
      "<statsmodels.tsa.statespace.sarimax.SARIMAXResultsWrapper object at 0x0000020C05735EB8>\n"
     ]
    },
    {
     "name": "stderr",
     "output_type": "stream",
     "text": [
      "C:\\Users\\JoyThompson\\AppData\\Local\\Continuum\\anaconda3\\lib\\site-packages\\statsmodels\\base\\model.py:512: ConvergenceWarning:\n",
      "\n",
      "Maximum Likelihood optimization failed to converge. Check mle_retvals\n",
      "\n"
     ]
    },
    {
     "name": "stdout",
     "output_type": "stream",
     "text": [
      "<statsmodels.tsa.statespace.sarimax.SARIMAXResultsWrapper object at 0x0000020C057355C0>\n"
     ]
    },
    {
     "name": "stderr",
     "output_type": "stream",
     "text": [
      "C:\\Users\\JoyThompson\\AppData\\Local\\Continuum\\anaconda3\\lib\\site-packages\\statsmodels\\base\\model.py:512: ConvergenceWarning:\n",
      "\n",
      "Maximum Likelihood optimization failed to converge. Check mle_retvals\n",
      "\n"
     ]
    },
    {
     "name": "stdout",
     "output_type": "stream",
     "text": [
      "<statsmodels.tsa.statespace.sarimax.SARIMAXResultsWrapper object at 0x0000020C05735470>\n"
     ]
    },
    {
     "name": "stderr",
     "output_type": "stream",
     "text": [
      "C:\\Users\\JoyThompson\\AppData\\Local\\Continuum\\anaconda3\\lib\\site-packages\\statsmodels\\base\\model.py:512: ConvergenceWarning:\n",
      "\n",
      "Maximum Likelihood optimization failed to converge. Check mle_retvals\n",
      "\n"
     ]
    },
    {
     "name": "stdout",
     "output_type": "stream",
     "text": [
      "<statsmodels.tsa.statespace.sarimax.SARIMAXResultsWrapper object at 0x0000020C05735A58>\n",
      "<statsmodels.tsa.statespace.sarimax.SARIMAXResultsWrapper object at 0x0000020C057355F8>\n"
     ]
    },
    {
     "name": "stderr",
     "output_type": "stream",
     "text": [
      "C:\\Users\\JoyThompson\\AppData\\Local\\Continuum\\anaconda3\\lib\\site-packages\\statsmodels\\base\\model.py:512: ConvergenceWarning:\n",
      "\n",
      "Maximum Likelihood optimization failed to converge. Check mle_retvals\n",
      "\n",
      "C:\\Users\\JoyThompson\\AppData\\Local\\Continuum\\anaconda3\\lib\\site-packages\\statsmodels\\base\\model.py:512: ConvergenceWarning:\n",
      "\n",
      "Maximum Likelihood optimization failed to converge. Check mle_retvals\n",
      "\n"
     ]
    },
    {
     "name": "stdout",
     "output_type": "stream",
     "text": [
      "<statsmodels.tsa.statespace.sarimax.SARIMAXResultsWrapper object at 0x0000020C05735EF0>\n",
      "<statsmodels.tsa.statespace.sarimax.SARIMAXResultsWrapper object at 0x0000020C057355F8>\n"
     ]
    },
    {
     "name": "stderr",
     "output_type": "stream",
     "text": [
      "C:\\Users\\JoyThompson\\AppData\\Local\\Continuum\\anaconda3\\lib\\site-packages\\statsmodels\\base\\model.py:512: ConvergenceWarning:\n",
      "\n",
      "Maximum Likelihood optimization failed to converge. Check mle_retvals\n",
      "\n"
     ]
    },
    {
     "name": "stdout",
     "output_type": "stream",
     "text": [
      "<statsmodels.tsa.statespace.sarimax.SARIMAXResultsWrapper object at 0x0000020C057356A0>\n"
     ]
    },
    {
     "name": "stderr",
     "output_type": "stream",
     "text": [
      "C:\\Users\\JoyThompson\\AppData\\Local\\Continuum\\anaconda3\\lib\\site-packages\\statsmodels\\base\\model.py:512: ConvergenceWarning:\n",
      "\n",
      "Maximum Likelihood optimization failed to converge. Check mle_retvals\n",
      "\n"
     ]
    },
    {
     "name": "stdout",
     "output_type": "stream",
     "text": [
      "<statsmodels.tsa.statespace.sarimax.SARIMAXResultsWrapper object at 0x0000020C05735400>\n"
     ]
    },
    {
     "name": "stderr",
     "output_type": "stream",
     "text": [
      "C:\\Users\\JoyThompson\\AppData\\Local\\Continuum\\anaconda3\\lib\\site-packages\\statsmodels\\base\\model.py:512: ConvergenceWarning:\n",
      "\n",
      "Maximum Likelihood optimization failed to converge. Check mle_retvals\n",
      "\n"
     ]
    },
    {
     "name": "stdout",
     "output_type": "stream",
     "text": [
      "<statsmodels.tsa.statespace.sarimax.SARIMAXResultsWrapper object at 0x0000020C05735438>\n"
     ]
    },
    {
     "name": "stderr",
     "output_type": "stream",
     "text": [
      "C:\\Users\\JoyThompson\\AppData\\Local\\Continuum\\anaconda3\\lib\\site-packages\\statsmodels\\base\\model.py:512: ConvergenceWarning:\n",
      "\n",
      "Maximum Likelihood optimization failed to converge. Check mle_retvals\n",
      "\n"
     ]
    },
    {
     "name": "stdout",
     "output_type": "stream",
     "text": [
      "<statsmodels.tsa.statespace.sarimax.SARIMAXResultsWrapper object at 0x0000020C05735390>\n"
     ]
    },
    {
     "name": "stderr",
     "output_type": "stream",
     "text": [
      "C:\\Users\\JoyThompson\\AppData\\Local\\Continuum\\anaconda3\\lib\\site-packages\\statsmodels\\base\\model.py:512: ConvergenceWarning:\n",
      "\n",
      "Maximum Likelihood optimization failed to converge. Check mle_retvals\n",
      "\n"
     ]
    },
    {
     "name": "stdout",
     "output_type": "stream",
     "text": [
      "<statsmodels.tsa.statespace.sarimax.SARIMAXResultsWrapper object at 0x0000020C05735A58>\n",
      "        index    0\n",
      "0  2020-04-30  0.0\n",
      "1  2020-05-31  0.0\n",
      "2  2020-06-30  0.0\n",
      "3  2020-07-31  0.0\n",
      "4  2020-08-31  0.0\n",
      "5  2020-09-30  0.0\n",
      "6  2020-10-31  0.0\n",
      "7  2020-11-30  0.0\n",
      "8  2020-12-31  0.0\n",
      "9  2021-01-31  0.0\n",
      "10 2021-02-28  0.0\n",
      "11 2021-03-31  0.0\n",
      "        index    0\n",
      "0  2020-04-30  0.0\n",
      "1  2020-05-31  0.0\n",
      "2  2020-06-30  0.0\n",
      "3  2020-07-31  0.0\n",
      "4  2020-08-31  0.0\n",
      "5  2020-09-30  0.0\n",
      "6  2020-10-31  0.0\n",
      "7  2020-11-30  0.0\n",
      "8  2020-12-31  0.0\n",
      "9  2021-01-31  0.0\n",
      "10 2021-02-28  0.0\n",
      "11 2021-03-31  0.0\n",
      "['WDS127' 4 5 2 4.0 5.0 2.0 24.0 33.81818181818181 8.0 5 nan 4 6.0 3 5 13\n",
      " 12 14.0 19 83 13 3.862068965517241 4.0]\n",
      "[83.0 13.0 3.86 4.0]\n",
      "[[-0.4952929 ]\n",
      " [-0.43586189]\n",
      " [-0.43586189]\n",
      " [-0.4952929 ]\n",
      " [-0.43586189]\n",
      " [-0.43586189]\n",
      " [ 0.69332738]\n",
      " [ 1.27693993]\n",
      " [-0.25756885]\n",
      " [-0.43586189]\n",
      " [-0.43586189]\n",
      " [-0.4952929 ]\n",
      " [-0.37643087]\n",
      " [-0.55472392]\n",
      " [-0.43586189]\n",
      " [ 0.03958622]\n",
      " [-0.01984479]\n",
      " [ 0.09901724]\n",
      " [ 0.39617231]\n",
      " [ 4.1997572 ]\n",
      " [ 0.03958622]\n",
      " [-0.50361324]\n",
      " [-0.4952929 ]]\n",
      "0      4.00\n",
      "1      5.00\n",
      "2      5.00\n",
      "3      4.00\n",
      "4      5.00\n",
      "5      5.00\n",
      "6     24.00\n",
      "7     33.82\n",
      "8      8.00\n",
      "9      5.00\n",
      "10     5.00\n",
      "11     4.00\n",
      "12     6.00\n",
      "13     3.00\n",
      "14     5.00\n",
      "15    13.00\n",
      "16    12.00\n",
      "17    14.00\n",
      "18    19.00\n",
      "19    83.00\n",
      "20    13.00\n",
      "21     3.86\n",
      "22     4.00\n",
      "Name: y, dtype: float64\n",
      "[-0.4952929  -0.43586189 -0.43586189 -0.4952929  -0.43586189 -0.43586189\n",
      "  0.69332738  1.27693993 -0.25756885 -0.43586189 -0.43586189 -0.4952929\n",
      " -0.37643087 -0.55472392 -0.43586189  0.03958622 -0.01984479  0.09901724\n",
      "  0.39617231  4.1997572   0.03958622 -0.50361324 -0.4952929 ]\n"
     ]
    },
    {
     "name": "stderr",
     "output_type": "stream",
     "text": [
      "C:\\Users\\JoyThompson\\AppData\\Local\\Continuum\\anaconda3\\lib\\site-packages\\statsmodels\\base\\model.py:512: ConvergenceWarning:\n",
      "\n",
      "Maximum Likelihood optimization failed to converge. Check mle_retvals\n",
      "\n",
      "C:\\Users\\JoyThompson\\AppData\\Local\\Continuum\\anaconda3\\lib\\site-packages\\statsmodels\\base\\model.py:512: ConvergenceWarning:\n",
      "\n",
      "Maximum Likelihood optimization failed to converge. Check mle_retvals\n",
      "\n"
     ]
    },
    {
     "name": "stdout",
     "output_type": "stream",
     "text": [
      "<statsmodels.tsa.statespace.sarimax.SARIMAXResultsWrapper object at 0x0000020C080ADE80>\n",
      "<statsmodels.tsa.statespace.sarimax.SARIMAXResultsWrapper object at 0x0000020C080AD160>\n"
     ]
    },
    {
     "name": "stderr",
     "output_type": "stream",
     "text": [
      "C:\\Users\\JoyThompson\\AppData\\Local\\Continuum\\anaconda3\\lib\\site-packages\\statsmodels\\base\\model.py:512: ConvergenceWarning:\n",
      "\n",
      "Maximum Likelihood optimization failed to converge. Check mle_retvals\n",
      "\n"
     ]
    },
    {
     "name": "stdout",
     "output_type": "stream",
     "text": [
      "<statsmodels.tsa.statespace.sarimax.SARIMAXResultsWrapper object at 0x0000020C08085F60>\n"
     ]
    },
    {
     "name": "stderr",
     "output_type": "stream",
     "text": [
      "C:\\Users\\JoyThompson\\AppData\\Local\\Continuum\\anaconda3\\lib\\site-packages\\statsmodels\\base\\model.py:512: ConvergenceWarning:\n",
      "\n",
      "Maximum Likelihood optimization failed to converge. Check mle_retvals\n",
      "\n"
     ]
    },
    {
     "name": "stdout",
     "output_type": "stream",
     "text": [
      "<statsmodels.tsa.statespace.sarimax.SARIMAXResultsWrapper object at 0x0000020C08085FD0>\n"
     ]
    },
    {
     "name": "stderr",
     "output_type": "stream",
     "text": [
      "C:\\Users\\JoyThompson\\AppData\\Local\\Continuum\\anaconda3\\lib\\site-packages\\statsmodels\\base\\model.py:512: ConvergenceWarning:\n",
      "\n",
      "Maximum Likelihood optimization failed to converge. Check mle_retvals\n",
      "\n",
      "C:\\Users\\JoyThompson\\AppData\\Local\\Continuum\\anaconda3\\lib\\site-packages\\statsmodels\\base\\model.py:512: ConvergenceWarning:\n",
      "\n",
      "Maximum Likelihood optimization failed to converge. Check mle_retvals\n",
      "\n"
     ]
    },
    {
     "name": "stdout",
     "output_type": "stream",
     "text": [
      "<statsmodels.tsa.statespace.sarimax.SARIMAXResultsWrapper object at 0x0000020C08085CF8>\n",
      "<statsmodels.tsa.statespace.sarimax.SARIMAXResultsWrapper object at 0x0000020C08085CF8>\n",
      "<statsmodels.tsa.statespace.sarimax.SARIMAXResultsWrapper object at 0x0000020C0572EAC8>\n"
     ]
    },
    {
     "name": "stderr",
     "output_type": "stream",
     "text": [
      "C:\\Users\\JoyThompson\\AppData\\Local\\Continuum\\anaconda3\\lib\\site-packages\\statsmodels\\base\\model.py:512: ConvergenceWarning:\n",
      "\n",
      "Maximum Likelihood optimization failed to converge. Check mle_retvals\n",
      "\n",
      "C:\\Users\\JoyThompson\\AppData\\Local\\Continuum\\anaconda3\\lib\\site-packages\\statsmodels\\base\\model.py:512: ConvergenceWarning:\n",
      "\n",
      "Maximum Likelihood optimization failed to converge. Check mle_retvals\n",
      "\n"
     ]
    },
    {
     "name": "stdout",
     "output_type": "stream",
     "text": [
      "<statsmodels.tsa.statespace.sarimax.SARIMAXResultsWrapper object at 0x0000020C08085EF0>\n"
     ]
    },
    {
     "name": "stderr",
     "output_type": "stream",
     "text": [
      "C:\\Users\\JoyThompson\\AppData\\Local\\Continuum\\anaconda3\\lib\\site-packages\\statsmodels\\base\\model.py:512: ConvergenceWarning:\n",
      "\n",
      "Maximum Likelihood optimization failed to converge. Check mle_retvals\n",
      "\n",
      "C:\\Users\\JoyThompson\\AppData\\Local\\Continuum\\anaconda3\\lib\\site-packages\\statsmodels\\base\\model.py:512: ConvergenceWarning:\n",
      "\n",
      "Maximum Likelihood optimization failed to converge. Check mle_retvals\n",
      "\n"
     ]
    },
    {
     "name": "stdout",
     "output_type": "stream",
     "text": [
      "<statsmodels.tsa.statespace.sarimax.SARIMAXResultsWrapper object at 0x0000020C08085C88>\n",
      "<statsmodels.tsa.statespace.sarimax.SARIMAXResultsWrapper object at 0x0000020C08085CC0>\n",
      "<statsmodels.tsa.statespace.sarimax.SARIMAXResultsWrapper object at 0x0000020C08085F28>\n"
     ]
    },
    {
     "name": "stderr",
     "output_type": "stream",
     "text": [
      "C:\\Users\\JoyThompson\\AppData\\Local\\Continuum\\anaconda3\\lib\\site-packages\\statsmodels\\base\\model.py:512: ConvergenceWarning:\n",
      "\n",
      "Maximum Likelihood optimization failed to converge. Check mle_retvals\n",
      "\n",
      "C:\\Users\\JoyThompson\\AppData\\Local\\Continuum\\anaconda3\\lib\\site-packages\\statsmodels\\base\\model.py:512: ConvergenceWarning:\n",
      "\n",
      "Maximum Likelihood optimization failed to converge. Check mle_retvals\n",
      "\n"
     ]
    },
    {
     "name": "stdout",
     "output_type": "stream",
     "text": [
      "<statsmodels.tsa.statespace.sarimax.SARIMAXResultsWrapper object at 0x0000020C08085F60>\n"
     ]
    },
    {
     "name": "stderr",
     "output_type": "stream",
     "text": [
      "C:\\Users\\JoyThompson\\AppData\\Local\\Continuum\\anaconda3\\lib\\site-packages\\statsmodels\\base\\model.py:512: ConvergenceWarning:\n",
      "\n",
      "Maximum Likelihood optimization failed to converge. Check mle_retvals\n",
      "\n",
      "C:\\Users\\JoyThompson\\AppData\\Local\\Continuum\\anaconda3\\lib\\site-packages\\statsmodels\\base\\model.py:512: ConvergenceWarning:\n",
      "\n",
      "Maximum Likelihood optimization failed to converge. Check mle_retvals\n",
      "\n"
     ]
    },
    {
     "name": "stdout",
     "output_type": "stream",
     "text": [
      "<statsmodels.tsa.statespace.sarimax.SARIMAXResultsWrapper object at 0x0000020C0572EC88>\n",
      "<statsmodels.tsa.statespace.sarimax.SARIMAXResultsWrapper object at 0x0000020C08085CC0>\n",
      "<statsmodels.tsa.statespace.sarimax.SARIMAXResultsWrapper object at 0x0000020C0572EE80>\n"
     ]
    },
    {
     "name": "stderr",
     "output_type": "stream",
     "text": [
      "C:\\Users\\JoyThompson\\AppData\\Local\\Continuum\\anaconda3\\lib\\site-packages\\statsmodels\\base\\model.py:512: ConvergenceWarning:\n",
      "\n",
      "Maximum Likelihood optimization failed to converge. Check mle_retvals\n",
      "\n",
      "C:\\Users\\JoyThompson\\AppData\\Local\\Continuum\\anaconda3\\lib\\site-packages\\statsmodels\\base\\model.py:512: ConvergenceWarning:\n",
      "\n",
      "Maximum Likelihood optimization failed to converge. Check mle_retvals\n",
      "\n"
     ]
    },
    {
     "name": "stdout",
     "output_type": "stream",
     "text": [
      "<statsmodels.tsa.statespace.sarimax.SARIMAXResultsWrapper object at 0x0000020C08085DD8>\n"
     ]
    },
    {
     "name": "stderr",
     "output_type": "stream",
     "text": [
      "C:\\Users\\JoyThompson\\AppData\\Local\\Continuum\\anaconda3\\lib\\site-packages\\statsmodels\\base\\model.py:512: ConvergenceWarning:\n",
      "\n",
      "Maximum Likelihood optimization failed to converge. Check mle_retvals\n",
      "\n"
     ]
    },
    {
     "name": "stdout",
     "output_type": "stream",
     "text": [
      "<statsmodels.tsa.statespace.sarimax.SARIMAXResultsWrapper object at 0x0000020C08085F60>\n"
     ]
    },
    {
     "name": "stderr",
     "output_type": "stream",
     "text": [
      "C:\\Users\\JoyThompson\\AppData\\Local\\Continuum\\anaconda3\\lib\\site-packages\\statsmodels\\base\\model.py:512: ConvergenceWarning:\n",
      "\n",
      "Maximum Likelihood optimization failed to converge. Check mle_retvals\n",
      "\n"
     ]
    },
    {
     "name": "stdout",
     "output_type": "stream",
     "text": [
      "<statsmodels.tsa.statespace.sarimax.SARIMAXResultsWrapper object at 0x0000020C080AD400>\n"
     ]
    },
    {
     "name": "stderr",
     "output_type": "stream",
     "text": [
      "C:\\Users\\JoyThompson\\AppData\\Local\\Continuum\\anaconda3\\lib\\site-packages\\statsmodels\\base\\model.py:512: ConvergenceWarning:\n",
      "\n",
      "Maximum Likelihood optimization failed to converge. Check mle_retvals\n",
      "\n"
     ]
    },
    {
     "name": "stdout",
     "output_type": "stream",
     "text": [
      "<statsmodels.tsa.statespace.sarimax.SARIMAXResultsWrapper object at 0x0000020C0572EBA8>\n"
     ]
    },
    {
     "name": "stderr",
     "output_type": "stream",
     "text": [
      "C:\\Users\\JoyThompson\\AppData\\Local\\Continuum\\anaconda3\\lib\\site-packages\\statsmodels\\base\\model.py:512: ConvergenceWarning:\n",
      "\n",
      "Maximum Likelihood optimization failed to converge. Check mle_retvals\n",
      "\n"
     ]
    },
    {
     "name": "stdout",
     "output_type": "stream",
     "text": [
      "<statsmodels.tsa.statespace.sarimax.SARIMAXResultsWrapper object at 0x0000020C080ADAC8>\n"
     ]
    },
    {
     "name": "stderr",
     "output_type": "stream",
     "text": [
      "C:\\Users\\JoyThompson\\AppData\\Local\\Continuum\\anaconda3\\lib\\site-packages\\statsmodels\\base\\model.py:512: ConvergenceWarning:\n",
      "\n",
      "Maximum Likelihood optimization failed to converge. Check mle_retvals\n",
      "\n"
     ]
    },
    {
     "name": "stdout",
     "output_type": "stream",
     "text": [
      "<statsmodels.tsa.statespace.sarimax.SARIMAXResultsWrapper object at 0x0000020C08085C88>\n"
     ]
    },
    {
     "name": "stderr",
     "output_type": "stream",
     "text": [
      "C:\\Users\\JoyThompson\\AppData\\Local\\Continuum\\anaconda3\\lib\\site-packages\\statsmodels\\base\\model.py:512: ConvergenceWarning:\n",
      "\n",
      "Maximum Likelihood optimization failed to converge. Check mle_retvals\n",
      "\n"
     ]
    },
    {
     "name": "stdout",
     "output_type": "stream",
     "text": [
      "<statsmodels.tsa.statespace.sarimax.SARIMAXResultsWrapper object at 0x0000020C080AD080>\n"
     ]
    },
    {
     "name": "stderr",
     "output_type": "stream",
     "text": [
      "C:\\Users\\JoyThompson\\AppData\\Local\\Continuum\\anaconda3\\lib\\site-packages\\statsmodels\\base\\model.py:512: ConvergenceWarning:\n",
      "\n",
      "Maximum Likelihood optimization failed to converge. Check mle_retvals\n",
      "\n"
     ]
    },
    {
     "name": "stdout",
     "output_type": "stream",
     "text": [
      "<statsmodels.tsa.statespace.sarimax.SARIMAXResultsWrapper object at 0x0000020C080AD128>\n"
     ]
    },
    {
     "name": "stderr",
     "output_type": "stream",
     "text": [
      "C:\\Users\\JoyThompson\\AppData\\Local\\Continuum\\anaconda3\\lib\\site-packages\\statsmodels\\base\\model.py:512: ConvergenceWarning:\n",
      "\n",
      "Maximum Likelihood optimization failed to converge. Check mle_retvals\n",
      "\n"
     ]
    },
    {
     "name": "stdout",
     "output_type": "stream",
     "text": [
      "<statsmodels.tsa.statespace.sarimax.SARIMAXResultsWrapper object at 0x0000020C080ADE80>\n",
      "        index    0\n",
      "0  2020-04-30  0.0\n",
      "1  2020-05-31  0.0\n",
      "2  2020-06-30  0.0\n",
      "3  2020-07-31  0.0\n",
      "4  2020-08-31  0.0\n",
      "5  2020-09-30  0.0\n",
      "6  2020-10-31  0.0\n",
      "7  2020-11-30  0.0\n",
      "8  2020-12-31  0.0\n",
      "9  2021-01-31  0.0\n",
      "10 2021-02-28  0.0\n",
      "11 2021-03-31  0.0\n",
      "        index    0\n",
      "0  2020-04-30  0.0\n",
      "1  2020-05-31  0.0\n",
      "2  2020-06-30  0.0\n",
      "3  2020-07-31  0.0\n",
      "4  2020-08-31  0.0\n",
      "5  2020-09-30  0.0\n",
      "6  2020-10-31  0.0\n",
      "7  2020-11-30  0.0\n",
      "8  2020-12-31  0.0\n",
      "9  2021-01-31  0.0\n",
      "10 2021-02-28  0.0\n",
      "11 2021-03-31  0.0\n",
      "['WDS129' 1 1 3 3.0 1.0 4.0 5.769230769230769 8.857142857142858 8.0 7 10.0\n",
      " 4 nan 1 1 1 5 7.0 1 21 3 0.9655172413793103 4.0]\n",
      "[21.0 3.0 0.97 4.0]\n",
      "[[-0.80842554]\n",
      " [-0.80842554]\n",
      " [-0.35821277]\n",
      " [-0.35821277]\n",
      " [-0.80842554]\n",
      " [-0.13310638]\n",
      " [ 0.26533192]\n",
      " [ 0.96091065]\n",
      " [ 0.76731916]\n",
      " [ 0.54221277]\n",
      " [ 1.21753193]\n",
      " [-0.13310638]\n",
      " [-0.13310638]\n",
      " [-0.80842554]\n",
      " [-0.80842554]\n",
      " [-0.80842554]\n",
      " [ 0.092     ]\n",
      " [ 0.54221277]\n",
      " [-0.80842554]\n",
      " [ 3.69370218]\n",
      " [-0.35821277]\n",
      " [-0.81517874]\n",
      " [-0.13310638]]\n",
      "0      1.00\n",
      "1      1.00\n",
      "2      3.00\n",
      "3      3.00\n",
      "4      1.00\n",
      "5      4.00\n",
      "6      5.77\n",
      "7      8.86\n",
      "8      8.00\n",
      "9      7.00\n",
      "10    10.00\n",
      "11     4.00\n",
      "12     4.00\n",
      "13     1.00\n",
      "14     1.00\n",
      "15     1.00\n",
      "16     5.00\n",
      "17     7.00\n",
      "18     1.00\n",
      "19    21.00\n",
      "20     3.00\n",
      "21     0.97\n",
      "22     4.00\n",
      "Name: y, dtype: float64\n",
      "[-0.80842554 -0.80842554 -0.35821277 -0.35821277 -0.80842554 -0.13310638\n",
      "  0.26533192  0.96091065  0.76731916  0.54221277  1.21753193 -0.13310638\n",
      " -0.13310638 -0.80842554 -0.80842554 -0.80842554  0.092       0.54221277\n",
      " -0.80842554  3.69370218 -0.35821277 -0.81517874 -0.13310638]\n",
      "<statsmodels.tsa.statespace.sarimax.SARIMAXResultsWrapper object at 0x0000020C080E93C8>\n"
     ]
    },
    {
     "name": "stderr",
     "output_type": "stream",
     "text": [
      "C:\\Users\\JoyThompson\\AppData\\Local\\Continuum\\anaconda3\\lib\\site-packages\\statsmodels\\base\\model.py:512: ConvergenceWarning:\n",
      "\n",
      "Maximum Likelihood optimization failed to converge. Check mle_retvals\n",
      "\n",
      "C:\\Users\\JoyThompson\\AppData\\Local\\Continuum\\anaconda3\\lib\\site-packages\\statsmodels\\base\\model.py:512: ConvergenceWarning:\n",
      "\n",
      "Maximum Likelihood optimization failed to converge. Check mle_retvals\n",
      "\n"
     ]
    },
    {
     "name": "stdout",
     "output_type": "stream",
     "text": [
      "<statsmodels.tsa.statespace.sarimax.SARIMAXResultsWrapper object at 0x0000020C080E95C0>\n",
      "<statsmodels.tsa.statespace.sarimax.SARIMAXResultsWrapper object at 0x0000020C080E94E0>\n"
     ]
    },
    {
     "name": "stderr",
     "output_type": "stream",
     "text": [
      "C:\\Users\\JoyThompson\\AppData\\Local\\Continuum\\anaconda3\\lib\\site-packages\\statsmodels\\base\\model.py:512: ConvergenceWarning:\n",
      "\n",
      "Maximum Likelihood optimization failed to converge. Check mle_retvals\n",
      "\n",
      "C:\\Users\\JoyThompson\\AppData\\Local\\Continuum\\anaconda3\\lib\\site-packages\\statsmodels\\base\\model.py:512: ConvergenceWarning:\n",
      "\n",
      "Maximum Likelihood optimization failed to converge. Check mle_retvals\n",
      "\n"
     ]
    },
    {
     "name": "stdout",
     "output_type": "stream",
     "text": [
      "<statsmodels.tsa.statespace.sarimax.SARIMAXResultsWrapper object at 0x0000020C080E9550>\n"
     ]
    },
    {
     "name": "stderr",
     "output_type": "stream",
     "text": [
      "C:\\Users\\JoyThompson\\AppData\\Local\\Continuum\\anaconda3\\lib\\site-packages\\statsmodels\\base\\model.py:512: ConvergenceWarning:\n",
      "\n",
      "Maximum Likelihood optimization failed to converge. Check mle_retvals\n",
      "\n",
      "C:\\Users\\JoyThompson\\AppData\\Local\\Continuum\\anaconda3\\lib\\site-packages\\statsmodels\\base\\model.py:512: ConvergenceWarning:\n",
      "\n",
      "Maximum Likelihood optimization failed to converge. Check mle_retvals\n",
      "\n"
     ]
    },
    {
     "name": "stdout",
     "output_type": "stream",
     "text": [
      "<statsmodels.tsa.statespace.sarimax.SARIMAXResultsWrapper object at 0x0000020C080E9550>\n",
      "<statsmodels.tsa.statespace.sarimax.SARIMAXResultsWrapper object at 0x0000020C080E9F60>\n"
     ]
    },
    {
     "name": "stderr",
     "output_type": "stream",
     "text": [
      "C:\\Users\\JoyThompson\\AppData\\Local\\Continuum\\anaconda3\\lib\\site-packages\\statsmodels\\base\\model.py:512: ConvergenceWarning:\n",
      "\n",
      "Maximum Likelihood optimization failed to converge. Check mle_retvals\n",
      "\n"
     ]
    },
    {
     "name": "stdout",
     "output_type": "stream",
     "text": [
      "<statsmodels.tsa.statespace.sarimax.SARIMAXResultsWrapper object at 0x0000020C080E98D0>\n"
     ]
    },
    {
     "name": "stderr",
     "output_type": "stream",
     "text": [
      "C:\\Users\\JoyThompson\\AppData\\Local\\Continuum\\anaconda3\\lib\\site-packages\\statsmodels\\base\\model.py:512: ConvergenceWarning:\n",
      "\n",
      "Maximum Likelihood optimization failed to converge. Check mle_retvals\n",
      "\n"
     ]
    },
    {
     "name": "stdout",
     "output_type": "stream",
     "text": [
      "<statsmodels.tsa.statespace.sarimax.SARIMAXResultsWrapper object at 0x0000020C080E93C8>\n"
     ]
    },
    {
     "name": "stderr",
     "output_type": "stream",
     "text": [
      "C:\\Users\\JoyThompson\\AppData\\Local\\Continuum\\anaconda3\\lib\\site-packages\\statsmodels\\base\\model.py:512: ConvergenceWarning:\n",
      "\n",
      "Maximum Likelihood optimization failed to converge. Check mle_retvals\n",
      "\n",
      "C:\\Users\\JoyThompson\\AppData\\Local\\Continuum\\anaconda3\\lib\\site-packages\\statsmodels\\base\\model.py:512: ConvergenceWarning:\n",
      "\n",
      "Maximum Likelihood optimization failed to converge. Check mle_retvals\n",
      "\n"
     ]
    },
    {
     "name": "stdout",
     "output_type": "stream",
     "text": [
      "<statsmodels.tsa.statespace.sarimax.SARIMAXResultsWrapper object at 0x0000020C080E95C0>\n",
      "<statsmodels.tsa.statespace.sarimax.SARIMAXResultsWrapper object at 0x0000020C080E95C0>\n",
      "<statsmodels.tsa.statespace.sarimax.SARIMAXResultsWrapper object at 0x0000020C080E97F0>\n"
     ]
    },
    {
     "name": "stderr",
     "output_type": "stream",
     "text": [
      "C:\\Users\\JoyThompson\\AppData\\Local\\Continuum\\anaconda3\\lib\\site-packages\\statsmodels\\base\\model.py:512: ConvergenceWarning:\n",
      "\n",
      "Maximum Likelihood optimization failed to converge. Check mle_retvals\n",
      "\n",
      "C:\\Users\\JoyThompson\\AppData\\Local\\Continuum\\anaconda3\\lib\\site-packages\\statsmodels\\base\\model.py:512: ConvergenceWarning:\n",
      "\n",
      "Maximum Likelihood optimization failed to converge. Check mle_retvals\n",
      "\n"
     ]
    },
    {
     "name": "stdout",
     "output_type": "stream",
     "text": [
      "<statsmodels.tsa.statespace.sarimax.SARIMAXResultsWrapper object at 0x0000020C080E9EB8>\n"
     ]
    },
    {
     "name": "stderr",
     "output_type": "stream",
     "text": [
      "C:\\Users\\JoyThompson\\AppData\\Local\\Continuum\\anaconda3\\lib\\site-packages\\statsmodels\\base\\model.py:512: ConvergenceWarning:\n",
      "\n",
      "Maximum Likelihood optimization failed to converge. Check mle_retvals\n",
      "\n",
      "C:\\Users\\JoyThompson\\AppData\\Local\\Continuum\\anaconda3\\lib\\site-packages\\statsmodels\\base\\model.py:512: ConvergenceWarning:\n",
      "\n",
      "Maximum Likelihood optimization failed to converge. Check mle_retvals\n",
      "\n"
     ]
    },
    {
     "name": "stdout",
     "output_type": "stream",
     "text": [
      "<statsmodels.tsa.statespace.sarimax.SARIMAXResultsWrapper object at 0x0000020C080E9550>\n",
      "<statsmodels.tsa.statespace.sarimax.SARIMAXResultsWrapper object at 0x0000020C080E95F8>\n",
      "<statsmodels.tsa.statespace.sarimax.SARIMAXResultsWrapper object at 0x0000020C080E9C88>\n"
     ]
    },
    {
     "name": "stderr",
     "output_type": "stream",
     "text": [
      "C:\\Users\\JoyThompson\\AppData\\Local\\Continuum\\anaconda3\\lib\\site-packages\\statsmodels\\base\\model.py:512: ConvergenceWarning:\n",
      "\n",
      "Maximum Likelihood optimization failed to converge. Check mle_retvals\n",
      "\n",
      "C:\\Users\\JoyThompson\\AppData\\Local\\Continuum\\anaconda3\\lib\\site-packages\\statsmodels\\base\\model.py:512: ConvergenceWarning:\n",
      "\n",
      "Maximum Likelihood optimization failed to converge. Check mle_retvals\n",
      "\n"
     ]
    },
    {
     "name": "stdout",
     "output_type": "stream",
     "text": [
      "<statsmodels.tsa.statespace.sarimax.SARIMAXResultsWrapper object at 0x0000020C080E9898>\n"
     ]
    },
    {
     "name": "stderr",
     "output_type": "stream",
     "text": [
      "C:\\Users\\JoyThompson\\AppData\\Local\\Continuum\\anaconda3\\lib\\site-packages\\statsmodels\\base\\model.py:512: ConvergenceWarning:\n",
      "\n",
      "Maximum Likelihood optimization failed to converge. Check mle_retvals\n",
      "\n"
     ]
    },
    {
     "name": "stdout",
     "output_type": "stream",
     "text": [
      "<statsmodels.tsa.statespace.sarimax.SARIMAXResultsWrapper object at 0x0000020C080E9E80>\n"
     ]
    },
    {
     "name": "stderr",
     "output_type": "stream",
     "text": [
      "C:\\Users\\JoyThompson\\AppData\\Local\\Continuum\\anaconda3\\lib\\site-packages\\statsmodels\\base\\model.py:512: ConvergenceWarning:\n",
      "\n",
      "Maximum Likelihood optimization failed to converge. Check mle_retvals\n",
      "\n"
     ]
    },
    {
     "name": "stdout",
     "output_type": "stream",
     "text": [
      "<statsmodels.tsa.statespace.sarimax.SARIMAXResultsWrapper object at 0x0000020C080E9EB8>\n"
     ]
    },
    {
     "name": "stderr",
     "output_type": "stream",
     "text": [
      "C:\\Users\\JoyThompson\\AppData\\Local\\Continuum\\anaconda3\\lib\\site-packages\\statsmodels\\base\\model.py:512: ConvergenceWarning:\n",
      "\n",
      "Maximum Likelihood optimization failed to converge. Check mle_retvals\n",
      "\n"
     ]
    },
    {
     "name": "stdout",
     "output_type": "stream",
     "text": [
      "<statsmodels.tsa.statespace.sarimax.SARIMAXResultsWrapper object at 0x0000020C080E9E80>\n"
     ]
    },
    {
     "name": "stderr",
     "output_type": "stream",
     "text": [
      "C:\\Users\\JoyThompson\\AppData\\Local\\Continuum\\anaconda3\\lib\\site-packages\\statsmodels\\base\\model.py:512: ConvergenceWarning:\n",
      "\n",
      "Maximum Likelihood optimization failed to converge. Check mle_retvals\n",
      "\n"
     ]
    },
    {
     "name": "stdout",
     "output_type": "stream",
     "text": [
      "<statsmodels.tsa.statespace.sarimax.SARIMAXResultsWrapper object at 0x0000020C080E9A90>\n"
     ]
    },
    {
     "name": "stderr",
     "output_type": "stream",
     "text": [
      "C:\\Users\\JoyThompson\\AppData\\Local\\Continuum\\anaconda3\\lib\\site-packages\\statsmodels\\base\\model.py:512: ConvergenceWarning:\n",
      "\n",
      "Maximum Likelihood optimization failed to converge. Check mle_retvals\n",
      "\n"
     ]
    },
    {
     "name": "stdout",
     "output_type": "stream",
     "text": [
      "<statsmodels.tsa.statespace.sarimax.SARIMAXResultsWrapper object at 0x0000020C080E9860>\n"
     ]
    },
    {
     "name": "stderr",
     "output_type": "stream",
     "text": [
      "C:\\Users\\JoyThompson\\AppData\\Local\\Continuum\\anaconda3\\lib\\site-packages\\statsmodels\\base\\model.py:512: ConvergenceWarning:\n",
      "\n",
      "Maximum Likelihood optimization failed to converge. Check mle_retvals\n",
      "\n"
     ]
    },
    {
     "name": "stdout",
     "output_type": "stream",
     "text": [
      "<statsmodels.tsa.statespace.sarimax.SARIMAXResultsWrapper object at 0x0000020C080E9F60>\n"
     ]
    },
    {
     "name": "stderr",
     "output_type": "stream",
     "text": [
      "C:\\Users\\JoyThompson\\AppData\\Local\\Continuum\\anaconda3\\lib\\site-packages\\statsmodels\\base\\model.py:512: ConvergenceWarning:\n",
      "\n",
      "Maximum Likelihood optimization failed to converge. Check mle_retvals\n",
      "\n"
     ]
    },
    {
     "name": "stdout",
     "output_type": "stream",
     "text": [
      "<statsmodels.tsa.statespace.sarimax.SARIMAXResultsWrapper object at 0x0000020C080E9978>\n"
     ]
    },
    {
     "name": "stderr",
     "output_type": "stream",
     "text": [
      "C:\\Users\\JoyThompson\\AppData\\Local\\Continuum\\anaconda3\\lib\\site-packages\\statsmodels\\base\\model.py:512: ConvergenceWarning:\n",
      "\n",
      "Maximum Likelihood optimization failed to converge. Check mle_retvals\n",
      "\n"
     ]
    },
    {
     "name": "stdout",
     "output_type": "stream",
     "text": [
      "<statsmodels.tsa.statespace.sarimax.SARIMAXResultsWrapper object at 0x0000020C080E9F60>\n",
      "        index    0\n",
      "0  2020-04-30  0.0\n",
      "1  2020-05-31  0.0\n",
      "2  2020-06-30  0.0\n",
      "3  2020-07-31  0.0\n",
      "4  2020-08-31  0.0\n",
      "5  2020-09-30  0.0\n",
      "6  2020-10-31  0.0\n",
      "7  2020-11-30  0.0\n",
      "8  2020-12-31  0.0\n",
      "9  2021-01-31  0.0\n",
      "10 2021-02-28  0.0\n",
      "11 2021-03-31  0.0\n",
      "        index    0\n",
      "0  2020-04-30  0.0\n",
      "1  2020-05-31  0.0\n",
      "2  2020-06-30  0.0\n",
      "3  2020-07-31  0.0\n",
      "4  2020-08-31  0.0\n",
      "5  2020-09-30  0.0\n",
      "6  2020-10-31  0.0\n",
      "7  2020-11-30  0.0\n",
      "8  2020-12-31  0.0\n",
      "9  2021-01-31  0.0\n",
      "10 2021-02-28  0.0\n",
      "11 2021-03-31  0.0\n",
      "['WDS131' 3 4 1 6.0 2.0 5.0 9.0 66.42857142857143 2.952380952380953 6 6.0\n",
      " 5 1.0 1 4 4 7 36.0 10 36 4 0.9655172413793103 nan]\n",
      "[36.0 4.0 0.97 0]\n",
      "[[-0.49426295]\n",
      " [-0.4271473 ]\n",
      " [-0.4271473 ]\n",
      " [-0.29291601]\n",
      " [-0.56137859]\n",
      " [-0.36003166]\n",
      " [-0.09156908]\n",
      " [ 3.76288234]\n",
      " [-0.49761873]\n",
      " [-0.29291601]\n",
      " [-0.29291601]\n",
      " [-0.36003166]\n",
      " [-0.36003166]\n",
      " [-0.36003166]\n",
      " [-0.4271473 ]\n",
      " [-0.4271473 ]\n",
      " [-0.22580037]\n",
      " [ 1.7205533 ]\n",
      " [-0.02445344]\n",
      " [ 1.7205533 ]\n",
      " [-0.4271473 ]\n",
      " [-0.4271473 ]\n",
      " [-0.4271473 ]]\n",
      "0      3.00\n",
      "1      4.00\n",
      "2      4.00\n",
      "3      6.00\n",
      "4      2.00\n",
      "5      5.00\n",
      "6      9.00\n",
      "7     66.43\n",
      "8      2.95\n",
      "9      6.00\n",
      "10     6.00\n",
      "11     5.00\n",
      "12     5.00\n",
      "13     5.00\n",
      "14     4.00\n",
      "15     4.00\n",
      "16     7.00\n",
      "17    36.00\n",
      "18    10.00\n",
      "19    36.00\n",
      "20     4.00\n",
      "21     4.00\n",
      "22     4.00\n",
      "Name: y, dtype: float64\n",
      "[-0.49426295 -0.4271473  -0.4271473  -0.29291601 -0.56137859 -0.36003166\n",
      " -0.09156908  3.76288234 -0.49761873 -0.29291601 -0.29291601 -0.36003166\n",
      " -0.36003166 -0.36003166 -0.4271473  -0.4271473  -0.22580037  1.7205533\n",
      " -0.02445344  1.7205533  -0.4271473  -0.4271473  -0.4271473 ]\n",
      "<statsmodels.tsa.statespace.sarimax.SARIMAXResultsWrapper object at 0x0000020C08122940>\n"
     ]
    },
    {
     "name": "stderr",
     "output_type": "stream",
     "text": [
      "C:\\Users\\JoyThompson\\AppData\\Local\\Continuum\\anaconda3\\lib\\site-packages\\statsmodels\\base\\model.py:512: ConvergenceWarning:\n",
      "\n",
      "Maximum Likelihood optimization failed to converge. Check mle_retvals\n",
      "\n",
      "C:\\Users\\JoyThompson\\AppData\\Local\\Continuum\\anaconda3\\lib\\site-packages\\statsmodels\\base\\model.py:512: ConvergenceWarning:\n",
      "\n",
      "Maximum Likelihood optimization failed to converge. Check mle_retvals\n",
      "\n"
     ]
    },
    {
     "name": "stdout",
     "output_type": "stream",
     "text": [
      "<statsmodels.tsa.statespace.sarimax.SARIMAXResultsWrapper object at 0x0000020C08122E80>\n",
      "<statsmodels.tsa.statespace.sarimax.SARIMAXResultsWrapper object at 0x0000020C08122CF8>\n"
     ]
    },
    {
     "name": "stderr",
     "output_type": "stream",
     "text": [
      "C:\\Users\\JoyThompson\\AppData\\Local\\Continuum\\anaconda3\\lib\\site-packages\\statsmodels\\base\\model.py:512: ConvergenceWarning:\n",
      "\n",
      "Maximum Likelihood optimization failed to converge. Check mle_retvals\n",
      "\n",
      "C:\\Users\\JoyThompson\\AppData\\Local\\Continuum\\anaconda3\\lib\\site-packages\\statsmodels\\base\\model.py:512: ConvergenceWarning:\n",
      "\n",
      "Maximum Likelihood optimization failed to converge. Check mle_retvals\n",
      "\n"
     ]
    },
    {
     "name": "stdout",
     "output_type": "stream",
     "text": [
      "<statsmodels.tsa.statespace.sarimax.SARIMAXResultsWrapper object at 0x0000020C08122CC0>\n"
     ]
    },
    {
     "name": "stderr",
     "output_type": "stream",
     "text": [
      "C:\\Users\\JoyThompson\\AppData\\Local\\Continuum\\anaconda3\\lib\\site-packages\\statsmodels\\base\\model.py:512: ConvergenceWarning:\n",
      "\n",
      "Maximum Likelihood optimization failed to converge. Check mle_retvals\n",
      "\n",
      "C:\\Users\\JoyThompson\\AppData\\Local\\Continuum\\anaconda3\\lib\\site-packages\\statsmodels\\base\\model.py:512: ConvergenceWarning:\n",
      "\n",
      "Maximum Likelihood optimization failed to converge. Check mle_retvals\n",
      "\n"
     ]
    },
    {
     "name": "stdout",
     "output_type": "stream",
     "text": [
      "<statsmodels.tsa.statespace.sarimax.SARIMAXResultsWrapper object at 0x0000020C08122DA0>\n",
      "<statsmodels.tsa.statespace.sarimax.SARIMAXResultsWrapper object at 0x0000020C08122940>\n"
     ]
    },
    {
     "name": "stderr",
     "output_type": "stream",
     "text": [
      "C:\\Users\\JoyThompson\\AppData\\Local\\Continuum\\anaconda3\\lib\\site-packages\\statsmodels\\base\\model.py:512: ConvergenceWarning:\n",
      "\n",
      "Maximum Likelihood optimization failed to converge. Check mle_retvals\n",
      "\n"
     ]
    },
    {
     "name": "stdout",
     "output_type": "stream",
     "text": [
      "<statsmodels.tsa.statespace.sarimax.SARIMAXResultsWrapper object at 0x0000020C08122DA0>\n"
     ]
    },
    {
     "name": "stderr",
     "output_type": "stream",
     "text": [
      "C:\\Users\\JoyThompson\\AppData\\Local\\Continuum\\anaconda3\\lib\\site-packages\\statsmodels\\base\\model.py:512: ConvergenceWarning:\n",
      "\n",
      "Maximum Likelihood optimization failed to converge. Check mle_retvals\n",
      "\n"
     ]
    },
    {
     "name": "stdout",
     "output_type": "stream",
     "text": [
      "<statsmodels.tsa.statespace.sarimax.SARIMAXResultsWrapper object at 0x0000020C08122EB8>\n"
     ]
    },
    {
     "name": "stderr",
     "output_type": "stream",
     "text": [
      "C:\\Users\\JoyThompson\\AppData\\Local\\Continuum\\anaconda3\\lib\\site-packages\\statsmodels\\base\\model.py:512: ConvergenceWarning:\n",
      "\n",
      "Maximum Likelihood optimization failed to converge. Check mle_retvals\n",
      "\n",
      "C:\\Users\\JoyThompson\\AppData\\Local\\Continuum\\anaconda3\\lib\\site-packages\\statsmodels\\base\\model.py:512: ConvergenceWarning:\n",
      "\n",
      "Maximum Likelihood optimization failed to converge. Check mle_retvals\n",
      "\n"
     ]
    },
    {
     "name": "stdout",
     "output_type": "stream",
     "text": [
      "<statsmodels.tsa.statespace.sarimax.SARIMAXResultsWrapper object at 0x0000020C08122CF8>\n",
      "<statsmodels.tsa.statespace.sarimax.SARIMAXResultsWrapper object at 0x0000020C08122B38>\n",
      "<statsmodels.tsa.statespace.sarimax.SARIMAXResultsWrapper object at 0x0000020C08122A90>\n"
     ]
    },
    {
     "name": "stderr",
     "output_type": "stream",
     "text": [
      "C:\\Users\\JoyThompson\\AppData\\Local\\Continuum\\anaconda3\\lib\\site-packages\\statsmodels\\base\\model.py:512: ConvergenceWarning:\n",
      "\n",
      "Maximum Likelihood optimization failed to converge. Check mle_retvals\n",
      "\n",
      "C:\\Users\\JoyThompson\\AppData\\Local\\Continuum\\anaconda3\\lib\\site-packages\\statsmodels\\base\\model.py:512: ConvergenceWarning:\n",
      "\n",
      "Maximum Likelihood optimization failed to converge. Check mle_retvals\n",
      "\n"
     ]
    },
    {
     "name": "stdout",
     "output_type": "stream",
     "text": [
      "<statsmodels.tsa.statespace.sarimax.SARIMAXResultsWrapper object at 0x0000020C08122F28>\n"
     ]
    },
    {
     "name": "stderr",
     "output_type": "stream",
     "text": [
      "C:\\Users\\JoyThompson\\AppData\\Local\\Continuum\\anaconda3\\lib\\site-packages\\statsmodels\\base\\model.py:512: ConvergenceWarning:\n",
      "\n",
      "Maximum Likelihood optimization failed to converge. Check mle_retvals\n",
      "\n",
      "C:\\Users\\JoyThompson\\AppData\\Local\\Continuum\\anaconda3\\lib\\site-packages\\statsmodels\\base\\model.py:512: ConvergenceWarning:\n",
      "\n",
      "Maximum Likelihood optimization failed to converge. Check mle_retvals\n",
      "\n"
     ]
    },
    {
     "name": "stdout",
     "output_type": "stream",
     "text": [
      "<statsmodels.tsa.statespace.sarimax.SARIMAXResultsWrapper object at 0x0000020C08122F60>\n",
      "<statsmodels.tsa.statespace.sarimax.SARIMAXResultsWrapper object at 0x0000020C08122CF8>\n",
      "<statsmodels.tsa.statespace.sarimax.SARIMAXResultsWrapper object at 0x0000020C08122F28>\n"
     ]
    },
    {
     "name": "stderr",
     "output_type": "stream",
     "text": [
      "C:\\Users\\JoyThompson\\AppData\\Local\\Continuum\\anaconda3\\lib\\site-packages\\statsmodels\\base\\model.py:512: ConvergenceWarning:\n",
      "\n",
      "Maximum Likelihood optimization failed to converge. Check mle_retvals\n",
      "\n",
      "C:\\Users\\JoyThompson\\AppData\\Local\\Continuum\\anaconda3\\lib\\site-packages\\statsmodels\\base\\model.py:512: ConvergenceWarning:\n",
      "\n",
      "Maximum Likelihood optimization failed to converge. Check mle_retvals\n",
      "\n"
     ]
    },
    {
     "name": "stdout",
     "output_type": "stream",
     "text": [
      "<statsmodels.tsa.statespace.sarimax.SARIMAXResultsWrapper object at 0x0000020C08122908>\n"
     ]
    },
    {
     "name": "stderr",
     "output_type": "stream",
     "text": [
      "C:\\Users\\JoyThompson\\AppData\\Local\\Continuum\\anaconda3\\lib\\site-packages\\statsmodels\\base\\model.py:512: ConvergenceWarning:\n",
      "\n",
      "Maximum Likelihood optimization failed to converge. Check mle_retvals\n",
      "\n"
     ]
    },
    {
     "name": "stdout",
     "output_type": "stream",
     "text": [
      "<statsmodels.tsa.statespace.sarimax.SARIMAXResultsWrapper object at 0x0000020C08122A90>\n"
     ]
    },
    {
     "name": "stderr",
     "output_type": "stream",
     "text": [
      "C:\\Users\\JoyThompson\\AppData\\Local\\Continuum\\anaconda3\\lib\\site-packages\\statsmodels\\base\\model.py:512: ConvergenceWarning:\n",
      "\n",
      "Maximum Likelihood optimization failed to converge. Check mle_retvals\n",
      "\n"
     ]
    },
    {
     "name": "stdout",
     "output_type": "stream",
     "text": [
      "<statsmodels.tsa.statespace.sarimax.SARIMAXResultsWrapper object at 0x0000020C08122EB8>\n"
     ]
    },
    {
     "name": "stderr",
     "output_type": "stream",
     "text": [
      "C:\\Users\\JoyThompson\\AppData\\Local\\Continuum\\anaconda3\\lib\\site-packages\\statsmodels\\base\\model.py:512: ConvergenceWarning:\n",
      "\n",
      "Maximum Likelihood optimization failed to converge. Check mle_retvals\n",
      "\n"
     ]
    },
    {
     "name": "stdout",
     "output_type": "stream",
     "text": [
      "<statsmodels.tsa.statespace.sarimax.SARIMAXResultsWrapper object at 0x0000020C08122DA0>\n"
     ]
    },
    {
     "name": "stderr",
     "output_type": "stream",
     "text": [
      "C:\\Users\\JoyThompson\\AppData\\Local\\Continuum\\anaconda3\\lib\\site-packages\\statsmodels\\base\\model.py:512: ConvergenceWarning:\n",
      "\n",
      "Maximum Likelihood optimization failed to converge. Check mle_retvals\n",
      "\n"
     ]
    },
    {
     "name": "stdout",
     "output_type": "stream",
     "text": [
      "<statsmodels.tsa.statespace.sarimax.SARIMAXResultsWrapper object at 0x0000020C08134470>\n"
     ]
    },
    {
     "name": "stderr",
     "output_type": "stream",
     "text": [
      "C:\\Users\\JoyThompson\\AppData\\Local\\Continuum\\anaconda3\\lib\\site-packages\\statsmodels\\base\\model.py:512: ConvergenceWarning:\n",
      "\n",
      "Maximum Likelihood optimization failed to converge. Check mle_retvals\n",
      "\n"
     ]
    },
    {
     "name": "stdout",
     "output_type": "stream",
     "text": [
      "<statsmodels.tsa.statespace.sarimax.SARIMAXResultsWrapper object at 0x0000020C08122B38>\n"
     ]
    },
    {
     "name": "stderr",
     "output_type": "stream",
     "text": [
      "C:\\Users\\JoyThompson\\AppData\\Local\\Continuum\\anaconda3\\lib\\site-packages\\statsmodels\\base\\model.py:512: ConvergenceWarning:\n",
      "\n",
      "Maximum Likelihood optimization failed to converge. Check mle_retvals\n",
      "\n"
     ]
    },
    {
     "name": "stdout",
     "output_type": "stream",
     "text": [
      "<statsmodels.tsa.statespace.sarimax.SARIMAXResultsWrapper object at 0x0000020C081228D0>\n"
     ]
    },
    {
     "name": "stderr",
     "output_type": "stream",
     "text": [
      "C:\\Users\\JoyThompson\\AppData\\Local\\Continuum\\anaconda3\\lib\\site-packages\\statsmodels\\base\\model.py:512: ConvergenceWarning:\n",
      "\n",
      "Maximum Likelihood optimization failed to converge. Check mle_retvals\n",
      "\n"
     ]
    },
    {
     "name": "stdout",
     "output_type": "stream",
     "text": [
      "<statsmodels.tsa.statespace.sarimax.SARIMAXResultsWrapper object at 0x0000020C081345C0>\n"
     ]
    },
    {
     "name": "stderr",
     "output_type": "stream",
     "text": [
      "C:\\Users\\JoyThompson\\AppData\\Local\\Continuum\\anaconda3\\lib\\site-packages\\statsmodels\\base\\model.py:512: ConvergenceWarning:\n",
      "\n",
      "Maximum Likelihood optimization failed to converge. Check mle_retvals\n",
      "\n"
     ]
    },
    {
     "name": "stdout",
     "output_type": "stream",
     "text": [
      "<statsmodels.tsa.statespace.sarimax.SARIMAXResultsWrapper object at 0x0000020C08134400>\n",
      "        index    0\n",
      "0  2020-04-30  0.0\n",
      "1  2020-05-31  0.0\n",
      "2  2020-06-30  0.0\n",
      "3  2020-07-31  0.0\n",
      "4  2020-08-31  0.0\n",
      "5  2020-09-30  0.0\n",
      "6  2020-10-31  0.0\n",
      "7  2020-11-30  0.0\n",
      "8  2020-12-31  0.0\n",
      "9  2021-01-31  0.0\n",
      "10 2021-02-28  0.0\n",
      "11 2021-03-31  0.0\n",
      "        index    0\n",
      "0  2020-04-30  0.0\n",
      "1  2020-05-31  0.0\n",
      "2  2020-06-30  0.0\n",
      "3  2020-07-31  0.0\n",
      "4  2020-08-31  0.0\n",
      "5  2020-09-30  0.0\n",
      "6  2020-10-31  0.0\n",
      "7  2020-11-30  0.0\n",
      "8  2020-12-31  0.0\n",
      "9  2021-01-31  0.0\n",
      "10 2021-02-28  0.0\n",
      "11 2021-03-31  0.0\n"
     ]
    },
    {
     "data": {
      "image/png": "[encoded data removed]",
      "text/plain": [
       "<Figure size 864x288 with 1 Axes>"
      ]
     },
     "metadata": {
      "needs_background": "light"
     },
     "output_type": "display_data"
    },
    {
     "data": {
      "image/png": "[encoded data removed]",
      "text/plain": [
       "<Figure size 864x288 with 1 Axes>"
      ]
     },
     "metadata": {
      "needs_background": "light"
     },
     "output_type": "display_data"
    },
    {
     "data": {
      "image/png": "[encoded data removed]",
      "text/plain": [
       "<Figure size 864x288 with 1 Axes>"
      ]
     },
     "metadata": {
      "needs_background": "light"
     },
     "output_type": "display_data"
    },
    {
     "data": {
      "image/png": "[encoded data removed]",
      "text/plain": [
       "<Figure size 864x288 with 1 Axes>"
      ]
     },
     "metadata": {
      "needs_background": "light"
     },
     "output_type": "display_data"
    }
   ],
   "source": [
    "forecastout=skuorder.set_index('sku')\n",
    "forecastouth=skuorder.set_index('sku')\n",
    "forecastoutl=skuorder.set_index('sku')\n",
    "dropsku=[]\n",
    "count=0\n",
    "for indsku in skuorder.index:\n",
    "    sku=skuorder.loc[indsku, 'sku']\n",
    "    pdsku=pd.DataFrame({'ds':datesinput,'y':skuorder.iloc[count,1:].values})\n",
    "    print(skuorder.iloc[count,:].values)\n",
    "    droplist=[]\n",
    "    lunits=0\n",
    "    for ind in pdsku.index:\n",
    "        units=pdsku.loc[ind, 'y']\n",
    "        if str(pdsku.loc[ind, 'y'])[0]=='n':\n",
    "            lunits=0+lunits\n",
    "            if lunits ==0:\n",
    "                droplist.append(ind)\n",
    "            else:\n",
    "                pdsku.loc[ind, 'y']=0\n",
    "        else:\n",
    "            lunits=lunits+units\n",
    "            pdsku.loc[ind, 'y']=np.round(float(units), decimals=2)\n",
    "    pdsku=pdsku.drop(droplist)\n",
    "    print(pdsku.iloc[-4:,1].values)\n",
    "    if np.sum(pdsku.iloc[-4:,1].values)<5:\n",
    "        dropsku.append(sku)\n",
    "    else:\n",
    "        meanunit=statistics.mean(pdsku.iloc[:,1].values)\n",
    "    \n",
    "        for ind in pdsku.index:\n",
    "            units=pdsku.loc[ind, 'y']\n",
    "        \n",
    "            if units < float(meanunit*.2):\n",
    "                pdsku.loc[ind, 'y']=np.nan\n",
    "    \n",
    "        pdsknew=pdsku['y'].interpolate(method='pad')\n",
    "        mat=pdsknew.as_matrix()\n",
    "        mat=mat.reshape(-1,1)\n",
    "        transformer = StandardScaler()\n",
    "        transformer.fit(mat)\n",
    "        ystand = transformer.transform(mat)\n",
    "        print(ystand)\n",
    "        datelist=[]\n",
    "        ylist=[]\n",
    "        countmonths=0\n",
    "        for ind in pdsku.index:\n",
    "            date=pdsku.loc[ind, 'ds']\n",
    "            rev=ystand[countmonths][0]\n",
    "            datelist.append(date)\n",
    "            ylist.append(float(rev))\n",
    "            pdsku.loc[ind, 'y']=float(rev)\n",
    "            countmonths=countmonths+1\n",
    "        forecastin=pd.DataFrame({'ds':datelist, 'y':ylist})\n",
    "        forecastin=forecastin.set_index('ds')\n",
    "        ordervar, seasonalvar = arimamodel(forecastin)\n",
    "        results = sm.tsa.statespace.SARIMAX(forecastin, order=ordervar,seasonal_order=seasonalvar, freq='M').fit()\n",
    "        forecastdata=results.forecast(steps=12)\n",
    "        forecastdata=forecastdata.reset_index()\n",
    "    \n",
    "        forecastdatainv = transformer.inverse_transform(forecastdata[0])\n",
    "       \n",
    "        plotforecast, axes = plt.subplots(1,1, figsize=(12,4))\n",
    "        axes.plot_date(forecastdata['index'],forecastdatainv, '--.b' );\n",
    "        ct=0\n",
    "        for datefor in forecastdata.index:\n",
    "            date=forecastdata.loc[datefor, 'index']\n",
    "            sales=forecastdatainv[ct]\n",
    "            salesl=sales*.9\n",
    "            salesu=sales*1.1 \n",
    "            ct=ct+1\n",
    "            forecastout.loc[sku,date ]=sales\n",
    "            forecastoutl.loc[sku,date ]=salesl\n",
    "            forecastouth.loc[sku,date ]=salesu \n",
    "    count=count+1\n",
    "forecastout=forecastout.drop(dropsku)"
   ]
  },
  {
   "cell_type": "code",
   "execution_count": 9,
   "metadata": {},
   "outputs": [],
   "source": [
    "filenamefinal='/Users/JoyThompson/Desktop/scdammitdollskulevelforecast.xlsx'\n",
    "writer = pd.ExcelWriter(filenamefinal, engine='xlsxwriter')\n",
    "forecastout.to_excel(writer, sheet_name='forecast')\n",
    "forecastoutl.to_excel(writer, sheet_name='forecast upper bound')\n",
    "forecastoutl.to_excel(writer, sheet_name='forecast lower bound')\n",
    "writer.save()"
   ]
  },
  {
   "cell_type": "code",
   "execution_count": null,
   "metadata": {},
   "outputs": [],
   "source": []
  }
 ],
 "metadata": {
  "kernelspec": {
   "display_name": "Python 3",
   "language": "python",
   "name": "python3"
  },
  "language_info": {
   "codemirror_mode": {
    "name": "ipython",
    "version": 3
   },
   "file_extension": ".py",
   "mimetype": "text/x-python",
   "name": "python",
   "nbconvert_exporter": "python",
   "pygments_lexer": "ipython3",
   "version": "3.7.3"
  }
 },
 "nbformat": 4,
 "nbformat_minor": 2
}
