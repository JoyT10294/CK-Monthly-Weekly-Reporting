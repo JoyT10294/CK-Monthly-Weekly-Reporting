{
 "cells": [
  {
   "cell_type": "code",
   "execution_count": 1,
   "metadata": {},
   "outputs": [],
   "source": [
    "#Import useful functions\n",
    "import warnings\n",
    "warnings.filterwarnings(\"ignore\")\n",
    "from sklearn import svm, datasets\n",
    "from sklearn.model_selection import train_test_split\n",
    "from sklearn.metrics import confusion_matrix as cm\n",
    "from sklearn.utils.multiclass import unique_labels\n",
    "import itertools\n",
    "from scipy import misc\n",
    "import math\n",
    "import os\n",
    "import glob\n",
    "import xlrd\n",
    "import xlwt\n",
    "import pandas as pd\n",
    "from pandas import ExcelWriter\n",
    "from pandas import ExcelFile\n",
    "from PIL import Image\n",
    "from statsmodels.tsa.statespace.sarimax import SARIMAX\n",
    "import statsmodels.api as sm\n",
    "import pylab as plt\n",
    "import numpy as np\n",
    "from scipy.signal import argrelextrema\n",
    "from IPython.display import Image\n",
    "import matplotlib.patches as patches\n",
    "import matplotlib as matplotlib\n",
    "import xlsxwriter\n",
    "from xlrd import open_workbook\n",
    "from xlutils.copy import copy\n",
    "from sklearn.model_selection import train_test_split\n",
    "from datetime import datetime\n",
    "plt.style.use('fivethirtyeight')\n",
    "import itertools\n",
    "from fbprophet import Prophet\n",
    "from scipy.interpolate import interp1d\n",
    "from sklearn.preprocessing import StandardScaler\n",
    "import xlrd"
   ]
  },
  {
   "cell_type": "code",
   "execution_count": 2,
   "metadata": {},
   "outputs": [],
   "source": [
    "invname='/Users/JoyThompson/Desktop/Dammit Dolls Current Inventory.xlsx'\n",
    "filename='/Users/JoyThompson/Desktop/scdammitdollskulevelforecast.xlsx'\n",
    "inventory=pd.read_excel(invname, sheet_name='Sheet1')\n",
    "forecast=pd.read_excel(filename, sheet_name='forecast')\n",
    "month1='2020-05-31'\n",
    "month2='2020-06-30'"
   ]
  },
  {
   "cell_type": "code",
   "execution_count": 3,
   "metadata": {},
   "outputs": [],
   "source": [
    "inventory=inventory.set_index('sku')\n",
    "forecast=forecast.set_index('sku')\n",
    "mon1=pd.to_datetime(month1)\n",
    "mon2=pd.to_datetime(month2)\n",
    "invneed=pd.DataFrame()\n",
    "for sku in inventory.index:\n",
    "    if sku in forecast.index:\n",
    "        current=inventory.loc[sku, 'sellable-quantity']\n",
    "        mon1val=forecast.loc[sku,mon1]\n",
    "        mon2val=forecast.loc[sku,mon2]\n",
    "        forecastv=mon1val+mon2val\n",
    "        need=forecastv-current\n",
    "        invneed=invneed.append({'sku':sku, 'Forecast':forecastv,'Current':current, 'Requirement':need}, ignore_index=True)\n",
    "invneed=invneed.set_index('sku')\n",
    "        \n",
    "    "
   ]
  },
  {
   "cell_type": "code",
   "execution_count": 4,
   "metadata": {},
   "outputs": [
    {
     "name": "stdout",
     "output_type": "stream",
     "text": [
      "        Current   Forecast  Requirement\n",
      "sku                                    \n",
      "WDS126     19.0  32.585217    13.585217\n",
      "WDS127     30.0  24.667826    -5.332174\n",
      "WDS131     28.0  20.728696    -7.271304\n",
      "WDS129     19.0   9.182609    -9.817391\n"
     ]
    }
   ],
   "source": [
    "print(invneed)"
   ]
  },
  {
   "cell_type": "code",
   "execution_count": null,
   "metadata": {},
   "outputs": [],
   "source": [
    "filenamefinal='/Users/JoyThompson/Desktop/scdammitdollskulevelvaccuumreport.xlsx'\n",
    "writer = pd.ExcelWriter(filenamefinal, engine='xlsxwriter')\n",
    "invneed.to_excel(writer, sheet_name='Sheet1')\n",
    "writer.save()"
   ]
  }
 ],
 "metadata": {
  "kernelspec": {
   "display_name": "Python 3",
   "language": "python",
   "name": "python3"
  },
  "language_info": {
   "codemirror_mode": {
    "name": "ipython",
    "version": 3
   },
   "file_extension": ".py",
   "mimetype": "text/x-python",
   "name": "python",
   "nbconvert_exporter": "python",
   "pygments_lexer": "ipython3",
   "version": "3.7.3"
  }
 },
 "nbformat": 4,
 "nbformat_minor": 2
}
